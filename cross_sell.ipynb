{
 "cells": [
  {
   "cell_type": "markdown",
   "metadata": {},
   "source": [
    "# Predicting insurance cross-sales with ML \n",
    "\n",
    "## Problem\n",
    "This project uses machine learning to predict whether or not a current health insurance customer will buy car insurance after being contacted with an offer. The data came [from Kaggle](https://www.kaggle.com/anmolkumar/health-insurance-cross-sell-prediction), and the goal is to maximise profit by:\n",
    "* correctly identifying as non-many buyers as possible,\n",
    "* while also preserving as many sales as possible. \n",
    "\n",
    "## Solution\n",
    "### Summary\n",
    "The best-performing machine learning model correctly identifies 52% of leads as non-buyers who should not be contacted. At the same time, the model correctly selects ~98% of the buyers for targetting. The impact of the model is shown in two infographics [at the end of the notebook](#Visualizing-model-impact). If implemented, the model would save between \\\\$52,000-\\\\$130,000 per 100,000 leads, depending on how leads are contacted (mail, e-mail or phone).<br>\n",
    "\n",
    "### Data\n",
    "A labelled dataset collected about previous sales was used. Apart from the label ('buyer' or 'non-buyer'), it also contains the following information:\n",
    "* Demographics (gender, age, region)\n",
    "* Car insurance coverage (previously insured or not, previous damage, monthly premium offered)\n",
    "* Health insurance coverage (vintage, sales channel)\n",
    "\n",
    "A training and test set were provided, but since this is a Kaggle challenge, the labels of the test set were not available. To evaluate the performance of the final model after hyperparameter tuning, a separate validation set was created from the training set. \n",
    "\n",
    "### Approach\n",
    "Trained a variety of classifiers using hyperparameter tuning via a grid search with 5-fold cross validation. Next, diverse models were combined to generate a hard voting classifier and a stacking classifier. Finally, all classifiers were evaluated on the validation set. The best performing model was used to generate predictions on the test set for submission to Kaggle.\n",
    "\n",
    "* Scoring was performed using ROC AUC. The rationale behind this choice is [explained below](#Choosing-metrics).<br><br>\n",
    "* Classifiers tested:\n",
    "    * Logsitic regression (various regularisations),\n",
    "    * Linear support vector classifier,\n",
    "    * Random forest classifier,\n",
    "    * KNN classifier, \n",
    "    * Naive Bayes classifier.<br><br>\n",
    "* A combined up-/downsampling step was included because the positive target class (successful sale) occurs much less frequently in the training data. More details on this can be [found below](#Setting-up-pipeline)."
   ]
  },
  {
   "cell_type": "markdown",
   "metadata": {},
   "source": [
    "## Setup"
   ]
  },
  {
   "cell_type": "code",
   "execution_count": 1,
   "metadata": {
    "scrolled": true
   },
   "outputs": [
    {
     "data": {
      "text/html": [
       "<div>\n",
       "<style scoped>\n",
       "    .dataframe tbody tr th:only-of-type {\n",
       "        vertical-align: middle;\n",
       "    }\n",
       "\n",
       "    .dataframe tbody tr th {\n",
       "        vertical-align: top;\n",
       "    }\n",
       "\n",
       "    .dataframe thead th {\n",
       "        text-align: right;\n",
       "    }\n",
       "</style>\n",
       "<table border=\"1\" class=\"dataframe\">\n",
       "  <thead>\n",
       "    <tr style=\"text-align: right;\">\n",
       "      <th></th>\n",
       "      <th>Gender</th>\n",
       "      <th>Age</th>\n",
       "      <th>Driving_License</th>\n",
       "      <th>Region_Code</th>\n",
       "      <th>Previously_Insured</th>\n",
       "      <th>Vehicle_Age</th>\n",
       "      <th>Vehicle_Damage</th>\n",
       "      <th>Annual_Premium</th>\n",
       "      <th>Policy_Sales_Channel</th>\n",
       "      <th>Vintage</th>\n",
       "      <th>Response</th>\n",
       "    </tr>\n",
       "    <tr>\n",
       "      <th>id</th>\n",
       "      <th></th>\n",
       "      <th></th>\n",
       "      <th></th>\n",
       "      <th></th>\n",
       "      <th></th>\n",
       "      <th></th>\n",
       "      <th></th>\n",
       "      <th></th>\n",
       "      <th></th>\n",
       "      <th></th>\n",
       "      <th></th>\n",
       "    </tr>\n",
       "  </thead>\n",
       "  <tbody>\n",
       "    <tr>\n",
       "      <th>1</th>\n",
       "      <td>Male</td>\n",
       "      <td>44</td>\n",
       "      <td>1</td>\n",
       "      <td>28.0</td>\n",
       "      <td>0</td>\n",
       "      <td>&gt; 2 Years</td>\n",
       "      <td>Yes</td>\n",
       "      <td>40454.0</td>\n",
       "      <td>26.0</td>\n",
       "      <td>217</td>\n",
       "      <td>1</td>\n",
       "    </tr>\n",
       "    <tr>\n",
       "      <th>2</th>\n",
       "      <td>Male</td>\n",
       "      <td>76</td>\n",
       "      <td>1</td>\n",
       "      <td>3.0</td>\n",
       "      <td>0</td>\n",
       "      <td>1-2 Year</td>\n",
       "      <td>No</td>\n",
       "      <td>33536.0</td>\n",
       "      <td>26.0</td>\n",
       "      <td>183</td>\n",
       "      <td>0</td>\n",
       "    </tr>\n",
       "    <tr>\n",
       "      <th>3</th>\n",
       "      <td>Male</td>\n",
       "      <td>47</td>\n",
       "      <td>1</td>\n",
       "      <td>28.0</td>\n",
       "      <td>0</td>\n",
       "      <td>&gt; 2 Years</td>\n",
       "      <td>Yes</td>\n",
       "      <td>38294.0</td>\n",
       "      <td>26.0</td>\n",
       "      <td>27</td>\n",
       "      <td>1</td>\n",
       "    </tr>\n",
       "    <tr>\n",
       "      <th>4</th>\n",
       "      <td>Male</td>\n",
       "      <td>21</td>\n",
       "      <td>1</td>\n",
       "      <td>11.0</td>\n",
       "      <td>1</td>\n",
       "      <td>&lt; 1 Year</td>\n",
       "      <td>No</td>\n",
       "      <td>28619.0</td>\n",
       "      <td>152.0</td>\n",
       "      <td>203</td>\n",
       "      <td>0</td>\n",
       "    </tr>\n",
       "    <tr>\n",
       "      <th>5</th>\n",
       "      <td>Female</td>\n",
       "      <td>29</td>\n",
       "      <td>1</td>\n",
       "      <td>41.0</td>\n",
       "      <td>1</td>\n",
       "      <td>&lt; 1 Year</td>\n",
       "      <td>No</td>\n",
       "      <td>27496.0</td>\n",
       "      <td>152.0</td>\n",
       "      <td>39</td>\n",
       "      <td>0</td>\n",
       "    </tr>\n",
       "  </tbody>\n",
       "</table>\n",
       "</div>"
      ],
      "text/plain": [
       "    Gender  Age  Driving_License  Region_Code  Previously_Insured Vehicle_Age  \\\n",
       "id                                                                              \n",
       "1     Male   44                1         28.0                   0   > 2 Years   \n",
       "2     Male   76                1          3.0                   0    1-2 Year   \n",
       "3     Male   47                1         28.0                   0   > 2 Years   \n",
       "4     Male   21                1         11.0                   1    < 1 Year   \n",
       "5   Female   29                1         41.0                   1    < 1 Year   \n",
       "\n",
       "   Vehicle_Damage  Annual_Premium  Policy_Sales_Channel  Vintage  Response  \n",
       "id                                                                          \n",
       "1             Yes         40454.0                  26.0      217         1  \n",
       "2              No         33536.0                  26.0      183         0  \n",
       "3             Yes         38294.0                  26.0       27         1  \n",
       "4              No         28619.0                 152.0      203         0  \n",
       "5              No         27496.0                 152.0       39         0  "
      ]
     },
     "execution_count": 1,
     "metadata": {},
     "output_type": "execute_result"
    }
   ],
   "source": [
    "# Basics\n",
    "import pandas as pd\n",
    "import numpy as np\n",
    "import matplotlib.pyplot as plt\n",
    "\n",
    "# Sklearn / imblearn tools\n",
    "from sklearn.compose import ColumnTransformer\n",
    "from sklearn.preprocessing import OneHotEncoder, OrdinalEncoder, MinMaxScaler\n",
    "from sklearn.model_selection import train_test_split\n",
    "from sklearn.metrics import roc_auc_score, recall_score, precision_score, confusion_matrix\n",
    "from sklearn.model_selection import cross_validate\n",
    "from sklearn.model_selection import GridSearchCV\n",
    "from imblearn.pipeline import Pipeline\n",
    "from imblearn.over_sampling import SMOTE, SMOTENC\n",
    "\n",
    "# Sklearn / mlxtend models\n",
    "\n",
    "from sklearn.linear_model import SGDClassifier\n",
    "from sklearn.svm import LinearSVC\n",
    "from sklearn.ensemble import RandomForestClassifier\n",
    "from sklearn.neighbors import KNeighborsClassifier\n",
    "from sklearn.naive_bayes import GaussianNB\n",
    "from mlxtend.classifier import EnsembleVoteClassifier\n",
    "from sklearn.ensemble import GradientBoostingClassifier as GBC\n",
    "\n",
    "# Misc\n",
    "import warnings\n",
    "from joblib import dump, load\n",
    "from plotting_funcs import simplify_ax\n",
    "\n",
    "warnings.filterwarnings('ignore')\n",
    "\n",
    "%matplotlib inline\n",
    "\n",
    "sell_data_train = pd.read_csv('train.csv', index_col='id')\n",
    "sell_data_train.head()"
   ]
  },
  {
   "cell_type": "code",
   "execution_count": 2,
   "metadata": {},
   "outputs": [
    {
     "data": {
      "text/plain": [
       "(381109, 11)"
      ]
     },
     "execution_count": 2,
     "metadata": {},
     "output_type": "execute_result"
    }
   ],
   "source": [
    "sell_data_train.shape"
   ]
  },
  {
   "cell_type": "markdown",
   "metadata": {},
   "source": [
    "## Data exploration"
   ]
  },
  {
   "cell_type": "code",
   "execution_count": 3,
   "metadata": {
    "scrolled": true
   },
   "outputs": [
    {
     "data": {
      "text/plain": [
       "Gender                  0\n",
       "Age                     0\n",
       "Driving_License         0\n",
       "Region_Code             0\n",
       "Previously_Insured      0\n",
       "Vehicle_Age             0\n",
       "Vehicle_Damage          0\n",
       "Annual_Premium          0\n",
       "Policy_Sales_Channel    0\n",
       "Vintage                 0\n",
       "Response                0\n",
       "dtype: int64"
      ]
     },
     "execution_count": 3,
     "metadata": {},
     "output_type": "execute_result"
    }
   ],
   "source": [
    "# Missing values\n",
    "\n",
    "sell_data_train.isnull().sum()"
   ]
  },
  {
   "cell_type": "code",
   "execution_count": 4,
   "metadata": {},
   "outputs": [
    {
     "data": {
      "text/plain": [
       "Gender                   object\n",
       "Age                       int64\n",
       "Driving_License           int64\n",
       "Region_Code             float64\n",
       "Previously_Insured        int64\n",
       "Vehicle_Age              object\n",
       "Vehicle_Damage           object\n",
       "Annual_Premium          float64\n",
       "Policy_Sales_Channel    float64\n",
       "Vintage                   int64\n",
       "Response                  int64\n",
       "dtype: object"
      ]
     },
     "execution_count": 4,
     "metadata": {},
     "output_type": "execute_result"
    }
   ],
   "source": [
    "# Data types\n",
    "\n",
    "sell_data_train.dtypes"
   ]
  },
  {
   "cell_type": "code",
   "execution_count": 5,
   "metadata": {
    "scrolled": false
   },
   "outputs": [
    {
     "data": {
      "image/png": "[encoded data removed]",
      "text/plain": [
       "<Figure size 1440x2160 with 11 Axes>"
      ]
     },
     "metadata": {
      "needs_background": "light"
     },
     "output_type": "display_data"
    }
   ],
   "source": [
    "# Visualising distributions \n",
    "\n",
    "fig = plt.figure(figsize=(20,30))\n",
    "axs = []\n",
    "\n",
    "binary_col = [2,4]\n",
    "\n",
    "for n in range(11):\n",
    "    ax = fig.add_subplot(4, 3, n+1)\n",
    "    col = sell_data_train.columns[n]\n",
    "    if n in binary_col or sell_data_train[col].dtype == object:\n",
    "        sell_data_train[col].value_counts(dropna=False).plot(\n",
    "            kind='bar',\n",
    "            ax=ax,\n",
    "            title=sell_data_train.columns[n]\n",
    "        )\n",
    "        ax.tick_params(axis='x', rotation=45)\n",
    "    else:\n",
    "        sell_data_train[col].plot(kind='hist', ax=ax, title=sell_data_train.columns[n])"
   ]
  },
  {
   "cell_type": "code",
   "execution_count": 6,
   "metadata": {
    "scrolled": true
   },
   "outputs": [
    {
     "data": {
      "text/plain": [
       "(0.0, 150000.0)"
      ]
     },
     "execution_count": 6,
     "metadata": {},
     "output_type": "execute_result"
    },
    {
     "data": {
      "image/png": "[encoded data removed]",
      "text/plain": [
       "<Figure size 432x288 with 1 Axes>"
      ]
     },
     "metadata": {
      "needs_background": "light"
     },
     "output_type": "display_data"
    }
   ],
   "source": [
    "# Annual Premium in more detail\n",
    "\n",
    "ax = sell_data_train[['Annual_Premium']].plot(kind='hist', bins=[0,10000,20000,30000,40000,50000,60000,70000,80000,90000,100000])\n",
    "ax.set_xlim(0,150000)"
   ]
  },
  {
   "cell_type": "markdown",
   "metadata": {},
   "source": [
    "<b>Some observations / to-do </b><br>\n",
    "- Need to <b>encode</b> Gender (one-hot), Vehicle_Damage (one-hot), Vehicle_Age (ordinal)\n",
    "- Need to <b>scale</b> Age, Region_Code, Policy_Sales_Channel, Vintage\n",
    "- Age, Region_Code, Policy_Sales_Channel are <b>skewed</b>. Check dictionary for meaning of last two columns. Keep in mind for later.\n",
    "- Driving_License = 1 for all instances, so has no predictive value. Let's drop it. \n",
    "- There is significant <b>class imbalance in the target class</b>! The positive class (i.e. successful sale) is much less common. Will use imbalanced-learn library to implement upsampling using SMOTENC."
   ]
  },
  {
   "cell_type": "markdown",
   "metadata": {},
   "source": [
    "## Data preparation"
   ]
  },
  {
   "cell_type": "code",
   "execution_count": 7,
   "metadata": {},
   "outputs": [],
   "source": [
    "# Train/test split\n",
    "\n",
    "y = np.array(sell_data_train[['Response']])\n",
    "X = sell_data_train.drop('Response', axis=1)\n",
    "\n",
    "X_train, X_val, y_train, y_val = train_test_split(X, y, test_size=0.2, random_state=42)\n",
    "\n",
    "y_train = y_train.ravel()\n",
    "y_val = y_val.ravel()\n",
    "\n",
    "# Using column transformer to: drops license, transform other cols\n",
    "\n",
    "hot_ft = [0, 6]\n",
    "ord_ft = [5]\n",
    "drop_ft = [2]\n",
    "scale_ft = [1, 3, 8, 9]\n",
    "\n",
    "ct = ColumnTransformer(\n",
    "    transformers=[\n",
    "        ('ordinal', OrdinalEncoder(categories=[['< 1 Year', '1-2 Year', '> 2 Years']]), ord_ft),\n",
    "        ('one_hot', OneHotEncoder(), hot_ft),\n",
    "        ('scale', MinMaxScaler(), scale_ft),\n",
    "        ('to_drop', 'drop', drop_ft)\n",
    "    ], remainder='passthrough')"
   ]
  },
  {
   "cell_type": "code",
   "execution_count": 8,
   "metadata": {},
   "outputs": [
    {
     "data": {
      "text/plain": [
       "array([0, 0, 0, ..., 0, 0, 0], dtype=int64)"
      ]
     },
     "execution_count": 8,
     "metadata": {},
     "output_type": "execute_result"
    }
   ],
   "source": [
    "y_val"
   ]
  },
  {
   "cell_type": "code",
   "execution_count": 9,
   "metadata": {
    "scrolled": true
   },
   "outputs": [
    {
     "data": {
      "text/plain": [
       "array([1, 0, 0, 0, 0, 0, 0, 0, 0, 0], dtype=int64)"
      ]
     },
     "execution_count": 9,
     "metadata": {},
     "output_type": "execute_result"
    }
   ],
   "source": [
    "y_train[:10]"
   ]
  },
  {
   "cell_type": "code",
   "execution_count": 10,
   "metadata": {},
   "outputs": [
    {
     "data": {
      "text/html": [
       "<div>\n",
       "<style scoped>\n",
       "    .dataframe tbody tr th:only-of-type {\n",
       "        vertical-align: middle;\n",
       "    }\n",
       "\n",
       "    .dataframe tbody tr th {\n",
       "        vertical-align: top;\n",
       "    }\n",
       "\n",
       "    .dataframe thead th {\n",
       "        text-align: right;\n",
       "    }\n",
       "</style>\n",
       "<table border=\"1\" class=\"dataframe\">\n",
       "  <thead>\n",
       "    <tr style=\"text-align: right;\">\n",
       "      <th></th>\n",
       "      <th>Gender</th>\n",
       "      <th>Age</th>\n",
       "      <th>Driving_License</th>\n",
       "      <th>Region_Code</th>\n",
       "      <th>Previously_Insured</th>\n",
       "      <th>Vehicle_Age</th>\n",
       "      <th>Vehicle_Damage</th>\n",
       "      <th>Annual_Premium</th>\n",
       "      <th>Policy_Sales_Channel</th>\n",
       "      <th>Vintage</th>\n",
       "    </tr>\n",
       "    <tr>\n",
       "      <th>id</th>\n",
       "      <th></th>\n",
       "      <th></th>\n",
       "      <th></th>\n",
       "      <th></th>\n",
       "      <th></th>\n",
       "      <th></th>\n",
       "      <th></th>\n",
       "      <th></th>\n",
       "      <th></th>\n",
       "      <th></th>\n",
       "    </tr>\n",
       "  </thead>\n",
       "  <tbody>\n",
       "    <tr>\n",
       "      <th>332804</th>\n",
       "      <td>Female</td>\n",
       "      <td>39</td>\n",
       "      <td>1</td>\n",
       "      <td>15.0</td>\n",
       "      <td>0</td>\n",
       "      <td>1-2 Year</td>\n",
       "      <td>Yes</td>\n",
       "      <td>52906.0</td>\n",
       "      <td>55.0</td>\n",
       "      <td>227</td>\n",
       "    </tr>\n",
       "    <tr>\n",
       "      <th>116249</th>\n",
       "      <td>Male</td>\n",
       "      <td>38</td>\n",
       "      <td>1</td>\n",
       "      <td>11.0</td>\n",
       "      <td>0</td>\n",
       "      <td>1-2 Year</td>\n",
       "      <td>Yes</td>\n",
       "      <td>23038.0</td>\n",
       "      <td>26.0</td>\n",
       "      <td>29</td>\n",
       "    </tr>\n",
       "    <tr>\n",
       "      <th>255006</th>\n",
       "      <td>Male</td>\n",
       "      <td>22</td>\n",
       "      <td>1</td>\n",
       "      <td>30.0</td>\n",
       "      <td>1</td>\n",
       "      <td>&lt; 1 Year</td>\n",
       "      <td>No</td>\n",
       "      <td>45318.0</td>\n",
       "      <td>152.0</td>\n",
       "      <td>166</td>\n",
       "    </tr>\n",
       "    <tr>\n",
       "      <th>317475</th>\n",
       "      <td>Female</td>\n",
       "      <td>23</td>\n",
       "      <td>1</td>\n",
       "      <td>41.0</td>\n",
       "      <td>1</td>\n",
       "      <td>&lt; 1 Year</td>\n",
       "      <td>No</td>\n",
       "      <td>29132.0</td>\n",
       "      <td>151.0</td>\n",
       "      <td>277</td>\n",
       "    </tr>\n",
       "    <tr>\n",
       "      <th>344213</th>\n",
       "      <td>Male</td>\n",
       "      <td>56</td>\n",
       "      <td>1</td>\n",
       "      <td>48.0</td>\n",
       "      <td>0</td>\n",
       "      <td>&gt; 2 Years</td>\n",
       "      <td>Yes</td>\n",
       "      <td>2630.0</td>\n",
       "      <td>154.0</td>\n",
       "      <td>155</td>\n",
       "    </tr>\n",
       "    <tr>\n",
       "      <th>26230</th>\n",
       "      <td>Male</td>\n",
       "      <td>30</td>\n",
       "      <td>1</td>\n",
       "      <td>18.0</td>\n",
       "      <td>1</td>\n",
       "      <td>&lt; 1 Year</td>\n",
       "      <td>No</td>\n",
       "      <td>35118.0</td>\n",
       "      <td>152.0</td>\n",
       "      <td>92</td>\n",
       "    </tr>\n",
       "    <tr>\n",
       "      <th>109100</th>\n",
       "      <td>Male</td>\n",
       "      <td>48</td>\n",
       "      <td>1</td>\n",
       "      <td>28.0</td>\n",
       "      <td>0</td>\n",
       "      <td>1-2 Year</td>\n",
       "      <td>Yes</td>\n",
       "      <td>50341.0</td>\n",
       "      <td>124.0</td>\n",
       "      <td>188</td>\n",
       "    </tr>\n",
       "    <tr>\n",
       "      <th>318078</th>\n",
       "      <td>Male</td>\n",
       "      <td>20</td>\n",
       "      <td>1</td>\n",
       "      <td>37.0</td>\n",
       "      <td>0</td>\n",
       "      <td>&lt; 1 Year</td>\n",
       "      <td>Yes</td>\n",
       "      <td>47306.0</td>\n",
       "      <td>160.0</td>\n",
       "      <td>220</td>\n",
       "    </tr>\n",
       "    <tr>\n",
       "      <th>104642</th>\n",
       "      <td>Female</td>\n",
       "      <td>23</td>\n",
       "      <td>1</td>\n",
       "      <td>47.0</td>\n",
       "      <td>0</td>\n",
       "      <td>&lt; 1 Year</td>\n",
       "      <td>No</td>\n",
       "      <td>2630.0</td>\n",
       "      <td>152.0</td>\n",
       "      <td>163</td>\n",
       "    </tr>\n",
       "    <tr>\n",
       "      <th>107338</th>\n",
       "      <td>Male</td>\n",
       "      <td>77</td>\n",
       "      <td>1</td>\n",
       "      <td>20.0</td>\n",
       "      <td>1</td>\n",
       "      <td>1-2 Year</td>\n",
       "      <td>No</td>\n",
       "      <td>2630.0</td>\n",
       "      <td>9.0</td>\n",
       "      <td>283</td>\n",
       "    </tr>\n",
       "  </tbody>\n",
       "</table>\n",
       "</div>"
      ],
      "text/plain": [
       "        Gender  Age  Driving_License  Region_Code  Previously_Insured  \\\n",
       "id                                                                      \n",
       "332804  Female   39                1         15.0                   0   \n",
       "116249    Male   38                1         11.0                   0   \n",
       "255006    Male   22                1         30.0                   1   \n",
       "317475  Female   23                1         41.0                   1   \n",
       "344213    Male   56                1         48.0                   0   \n",
       "26230     Male   30                1         18.0                   1   \n",
       "109100    Male   48                1         28.0                   0   \n",
       "318078    Male   20                1         37.0                   0   \n",
       "104642  Female   23                1         47.0                   0   \n",
       "107338    Male   77                1         20.0                   1   \n",
       "\n",
       "       Vehicle_Age Vehicle_Damage  Annual_Premium  Policy_Sales_Channel  \\\n",
       "id                                                                        \n",
       "332804    1-2 Year            Yes         52906.0                  55.0   \n",
       "116249    1-2 Year            Yes         23038.0                  26.0   \n",
       "255006    < 1 Year             No         45318.0                 152.0   \n",
       "317475    < 1 Year             No         29132.0                 151.0   \n",
       "344213   > 2 Years            Yes          2630.0                 154.0   \n",
       "26230     < 1 Year             No         35118.0                 152.0   \n",
       "109100    1-2 Year            Yes         50341.0                 124.0   \n",
       "318078    < 1 Year            Yes         47306.0                 160.0   \n",
       "104642    < 1 Year             No          2630.0                 152.0   \n",
       "107338    1-2 Year             No          2630.0                   9.0   \n",
       "\n",
       "        Vintage  \n",
       "id               \n",
       "332804      227  \n",
       "116249       29  \n",
       "255006      166  \n",
       "317475      277  \n",
       "344213      155  \n",
       "26230        92  \n",
       "109100      188  \n",
       "318078      220  \n",
       "104642      163  \n",
       "107338      283  "
      ]
     },
     "execution_count": 10,
     "metadata": {},
     "output_type": "execute_result"
    }
   ],
   "source": [
    "X_train[:10]"
   ]
  },
  {
   "cell_type": "markdown",
   "metadata": {},
   "source": [
    "## Choosing metrics\n",
    "**Performance metrics recorded:** Recall, specificity, ROC AUC.\n",
    "<br><br>**ROC AUC was used to select best estimators - why?**\n",
    "- The overall goal here is two-fold: to convert as many leads as possible, while not wasting resources on non-buyers.<br>\n",
    "<br>\n",
    "- Mathematically speaking, this translates into wanting high recall (many true positives) and low fall-out (low false positives). Unfortunately, there is usually a trade-off between the two, and a good model strikes the right balance between recall and fall-out.<br>\n",
    "<br>\n",
    "- **Based on this, I choose ROC AUC as my main metric, because it reflects both recall and fallout.** By optimising the ROC AUC, I hope to find the right balance between identifying buyers and identifying non-buyers.\n",
    "<br>\n",
    "<br>\n",
    "- When using ROC AUC, it is assumed that the opportunity cost of missing a potential buyer is equal to the cost of contacting a lead. This assumption might not hold in this particular case, but I was unable to verify the exact cost of contacting a lead.<br>"
   ]
  },
  {
   "cell_type": "code",
   "execution_count": 11,
   "metadata": {},
   "outputs": [],
   "source": [
    "metrics = ['roc_auc', 'recall', 'precision']\n",
    "\n",
    "# Utility function to calculate averages from dictionary returned by cross_validate\n",
    "\n",
    "def avg_scores(metrics_list, score_dict):\n",
    "    \"\"\"Average the metrics returned by sklearn.model_selection.cross_validate() across\n",
    "    all folds.\n",
    "    Args:\n",
    "        metrics_list (list): Metrics passed to cross_validate().\n",
    "        score_dict (dict): Output of cross_calidate().\n",
    "    Returns:\n",
    "        avg_dict (dict): Average of metrics. \n",
    "    \"\"\"\n",
    "    avg_dict = {}\n",
    "    for m in metrics_list:\n",
    "        avg_dict[m] = np.mean(score_dict['test_{}'.format(m)])\n",
    "    return avg_dict\n",
    "\n",
    "# Utility function to extract best index, params, score from GridSearchCV results dictionary\n",
    "\n",
    "def grid_best(metrics_list, gridcv_instance):\n",
    "    \"\"\"Takes a GridSearchCV instance and extracts the best index (based on the GridSearchCV refit parameter),\n",
    "    its hyperparameters and all performance metrics for the model trained with those hyperparameters.\n",
    "    Args:\n",
    "        metrics_list (list): Metrics passed to cross_validate().\n",
    "        gridcv_instance (GridSearchCV)\n",
    "    Returns:\n",
    "        best_dict (dict): Best index, hyperparams, metrics.\n",
    "    \"\"\"\n",
    "    best_dict = {}\n",
    "    best_dict['best_index'] = gridcv_instance.best_index_\n",
    "    best_dict['best_params'] = gridcv_instance.best_params_\n",
    "    for m in metrics_list:\n",
    "        best_dict[m] = gridcv_instance.cv_results_['mean_test_{}'.format(m)][gridcv_instance.best_index_]\n",
    "    return best_dict"
   ]
  },
  {
   "cell_type": "markdown",
   "metadata": {},
   "source": [
    "## Setting up pipeline \n",
    "\n",
    "Aside from the classifier, the pipieline will include the column transformer and the upsampling step.\n",
    "<br><br>Upsampling will be implemented usign SMOTENC from imblearn.\n",
    "<br><br>Because of this, I will use imblearn's own pipeline class. Unlike the sklearn pipeline class, imblearn ensures that the validation set is *not* oversampled. Oversampling in the validation set would distort error metrics."
   ]
  },
  {
   "cell_type": "code",
   "execution_count": 12,
   "metadata": {},
   "outputs": [],
   "source": [
    "# Utility function function to generate pipeline with ColumnTransformer, SMOTENC, and a classifier.\n",
    "\n",
    "def make_pipe(clf):\n",
    "    \"\"\"Makes imblearn pipeline with desired classifier and pre-set transformers. \n",
    "    Args:\n",
    "        clf (sklearn estimator): Desired classifier. Inclue desired hyperparameters.\n",
    "    Returns:\n",
    "        pipe (imblearn.pipeline.Pipeline) \n",
    "    \"\"\"  \n",
    "    pipe = Pipeline(steps=[\n",
    "        ('sampling', SMOTENC(categorical_features=ord_ft+hot_ft, random_state=42, n_jobs=-1)),\n",
    "        ('transfomer', ct),\n",
    "        ('clf', clf)\n",
    "    ], memory='pipe_cache')\n",
    "\n",
    "    return pipe"
   ]
  },
  {
   "cell_type": "markdown",
   "metadata": {},
   "source": [
    "## Training and selecting models\n",
    "### Logistic regression\n",
    "#### Lasso regularisation\n",
    "Due to the number of features, I will first try Lasso regression."
   ]
  },
  {
   "cell_type": "code",
   "execution_count": 13,
   "metadata": {
    "scrolled": true
   },
   "outputs": [
    {
     "name": "stdout",
     "output_type": "stream",
     "text": [
      "{'roc_auc': 0.7886522697286023, 'recall': 0.6820530820458581, 'precision': 0.2540935249807958}\n"
     ]
    }
   ],
   "source": [
    "log_model = make_pipe(SGDClassifier(loss='log', penalty='l1', random_state=42))\n",
    "\n",
    "log_scores = cross_validate(log_model, X_train, y_train, scoring=metrics)\n",
    "\n",
    "log_avg_scores = avg_scores(metrics, log_scores)\n",
    "print(log_avg_scores)"
   ]
  },
  {
   "cell_type": "markdown",
   "metadata": {},
   "source": [
    "#### Hyperparameter tuning using GridSearchCV"
   ]
  },
  {
   "cell_type": "markdown",
   "metadata": {},
   "source": [
    "Performance is moderate, with a middling ROC AUC and recall and low precision. At the moment, we are correctly identifying some of the real opportunities, but also wasting resources by going after the wrong leads.<br>\n",
    "\n",
    "Next, I will examine different combinations of hyperparameters systematically using GridSearchCV:\n",
    "- penalty, defines whether to use Lasso, Ridge or Elastic Net regularisation\n",
    "- alpha, determines extent of regularisation\n",
    "- l1_ratio (when using Elastic Net), defines the proportion of Lasso regularisation."
   ]
  },
  {
   "cell_type": "code",
   "execution_count": 14,
   "metadata": {
    "scrolled": true
   },
   "outputs": [
    {
     "data": {
      "text/plain": [
       "GridSearchCV(estimator=Pipeline(memory='pipe_cache',\n",
       "                                steps=[('sampling',\n",
       "                                        SMOTENC(categorical_features=[5, 0, 6],\n",
       "                                                random_state=42)),\n",
       "                                       ('transfomer',\n",
       "                                        ColumnTransformer(remainder='passthrough',\n",
       "                                                          transformers=[('ordinal',\n",
       "                                                                         OrdinalEncoder(categories=[['< '\n",
       "                                                                                                     '1 '\n",
       "                                                                                                     'Year',\n",
       "                                                                                                     '1-2 '\n",
       "                                                                                                     'Year',\n",
       "                                                                                                     '> '\n",
       "                                                                                                     '2 '\n",
       "                                                                                                     'Years']]),\n",
       "                                                                         [5]),\n",
       "                                                                        ('one_hot',\n",
       "                                                                         OneHotEncoder(),\n",
       "                                                                         [0,\n",
       "                                                                          6]),\n",
       "                                                                        ('scale',\n",
       "                                                                         MinMaxScaler(),\n",
       "                                                                         [1, 3,\n",
       "                                                                          8,\n",
       "                                                                          9])...\n",
       "                                                                         'drop',\n",
       "                                                                         [2])])),\n",
       "                                       ('clf',\n",
       "                                        SGDClassifier(loss='log', max_iter=2000,\n",
       "                                                      random_state=42))]),\n",
       "             param_grid=[{'clf__alpha': [1, 5, 10, 50, 100, 500, 1000],\n",
       "                          'clf__penalty': ['l1', 'l2']},\n",
       "                         {'clf__alpha': [1, 5, 10, 50, 100, 500, 1000],\n",
       "                          'clf__l1_ratio': [0.05, 0.1, 0.2, 0.3, 0.4, 0.5, 0.6,\n",
       "                                            0.7, 0.8, 0.9, 0.95],\n",
       "                          'clf__penalty': ['elasticnet']}],\n",
       "             refit='roc_auc', scoring=['roc_auc', 'recall', 'precision'])"
      ]
     },
     "execution_count": 14,
     "metadata": {},
     "output_type": "execute_result"
    }
   ],
   "source": [
    "log_param_grid = [\n",
    "    {'clf__penalty': ['l1', 'l2'], \n",
    "    'clf__alpha': [1, 5, 10, 50, 100, 500, 1000]\n",
    "    },\n",
    "    {'clf__penalty': ['elasticnet'],\n",
    "    'clf__l1_ratio': [0.05, 0.1, 0.2, 0.3, 0.4, 0.5, 0.6, 0.7, 0.8, 0.9, 0.95],\n",
    "    'clf__alpha': [1, 5, 10, 50, 100, 500, 1000]\n",
    "    }]\n",
    "\n",
    "log_model = make_pipe(SGDClassifier(loss='log', random_state=42, max_iter=2000))\n",
    "\n",
    "grid_search_log = GridSearchCV(log_model, log_param_grid, scoring=metrics, refit='roc_auc')\n",
    "grid_search_log.fit(X_train, y_train)"
   ]
  },
  {
   "cell_type": "markdown",
   "metadata": {},
   "source": [
    "Let's obtain the best parameters, the best index, and the best ROC AUC. I will also obtain the best estimator and save it for future use."
   ]
  },
  {
   "cell_type": "code",
   "execution_count": 16,
   "metadata": {
    "scrolled": true
   },
   "outputs": [
    {
     "data": {
      "text/plain": [
       "['models/log_model.joblib']"
      ]
     },
     "execution_count": 16,
     "metadata": {},
     "output_type": "execute_result"
    }
   ],
   "source": [
    "best_estimator_log = grid_search_log.best_estimator_\n",
    "dump(best_estimator_log, 'models/log_model.joblib')"
   ]
  },
  {
   "cell_type": "code",
   "execution_count": 17,
   "metadata": {},
   "outputs": [
    {
     "name": "stdout",
     "output_type": "stream",
     "text": [
      "{'best_index': 14, 'best_params': {'clf__alpha': 1, 'clf__l1_ratio': 0.05, 'clf__penalty': 'elasticnet'}, 'roc_auc': 0.7659955733341425, 'recall': 0.18472230101138531, 'precision': 0.08389872485606445}\n"
     ]
    }
   ],
   "source": [
    "best_log = grid_best(metrics, grid_search_log)\n",
    "print(best_log)"
   ]
  },
  {
   "cell_type": "markdown",
   "metadata": {},
   "source": [
    "ROC AUC is high, but recall is very low. It seems that logistic regression is not appropriate for this task."
   ]
  },
  {
   "cell_type": "code",
   "execution_count": 18,
   "metadata": {},
   "outputs": [
    {
     "data": {
      "text/plain": [
       "array([0.4       , 0.2       , 1.        , 0.49089687, 0.8       ,\n",
       "       0.51298551, 0.        , 0.236525  , 0.        , 0.75803856,\n",
       "       0.        , 0.74149163, 0.        , 0.65312267, 0.1847223 ,\n",
       "       0.19835955, 0.4       , 0.4       , 0.36318903, 0.2       ,\n",
       "       0.36447492, 0.        , 0.2       , 0.4       , 0.4       ,\n",
       "       0.16307651, 0.        , 0.16318903, 0.        , 0.2       ,\n",
       "       0.2       , 0.2       , 0.        , 0.        , 0.        ,\n",
       "       0.6       , 0.16334543, 0.16334543, 0.        , 0.16334543,\n",
       "       0.16334543, 0.        , 0.2       , 0.2       , 0.        ,\n",
       "       0.2       , 0.6       , 0.16447492, 0.16447492, 0.16447492,\n",
       "       0.16447492, 0.16447492, 0.        , 0.        , 0.        ,\n",
       "       0.16353859, 0.        , 0.        , 0.49079425, 0.49076735,\n",
       "       0.49074046, 0.49074046, 0.49074046, 0.49117565, 0.49106809,\n",
       "       0.3250605 , 0.        , 0.        , 0.        , 0.3157187 ,\n",
       "       0.150437  , 0.        , 0.        , 0.        , 0.        ,\n",
       "       0.        , 0.        , 0.        , 0.        , 0.        ,\n",
       "       0.15988169, 0.        , 0.        , 0.        , 0.        ,\n",
       "       0.        , 0.        , 0.        , 0.        , 0.        ,\n",
       "       0.        ])"
      ]
     },
     "execution_count": 18,
     "metadata": {},
     "output_type": "execute_result"
    }
   ],
   "source": [
    "grid_search_log.cv_results_['mean_test_recall']"
   ]
  },
  {
   "cell_type": "markdown",
   "metadata": {},
   "source": [
    "The 'mean_test_recall' array shows that many models have low recall, but high ROC AUC. These models simply predict most instances to be negative, which does not meet out goal of maximising sales while minimizing marketing expenditure. The SGDClassifier with the best parameters achieves by far the best balance."
   ]
  },
  {
   "cell_type": "markdown",
   "metadata": {},
   "source": [
    "### Linear SVC\n",
    "\n",
    "#### Default parameters\n",
    "\n",
    "This includes l2 regularization, which did not perform very well on its own in logistic regression. Nonetheless, it will be interesting to see how it compares to logistic regression.<br><br>\n",
    "(N.B.: SVC with an RBF kernel might work very well for this dataset, but it has very high computational complexity, so I cannot implement it here.)"
   ]
  },
  {
   "cell_type": "code",
   "execution_count": 19,
   "metadata": {},
   "outputs": [
    {
     "name": "stdout",
     "output_type": "stream",
     "text": [
      "{'roc_auc': 0.8277368924234663, 'recall': 0.9725442827937881, 'precision': 0.24890504045459508}\n"
     ]
    }
   ],
   "source": [
    "svc_model = make_pipe(LinearSVC(dual=False, random_state=42))\n",
    "svc_scores = cross_validate(svc_model, X_train, y_train, scoring=metrics)\n",
    "\n",
    "svc_avg_scores = avg_scores(metrics, svc_scores)\n",
    "print(svc_avg_scores)"
   ]
  },
  {
   "cell_type": "markdown",
   "metadata": {},
   "source": [
    "ROC AUC is slightly higher than for logistic regression, but recall is much better. Let's see if a grid search can further improve this model.\n",
    "#### Hyperparameter tuning using GridSearchCV"
   ]
  },
  {
   "cell_type": "code",
   "execution_count": 20,
   "metadata": {
    "scrolled": true
   },
   "outputs": [
    {
     "data": {
      "text/plain": [
       "GridSearchCV(estimator=Pipeline(memory='pipe_cache',\n",
       "                                steps=[('sampling',\n",
       "                                        SMOTENC(categorical_features=[5, 0, 6],\n",
       "                                                random_state=42)),\n",
       "                                       ('transfomer',\n",
       "                                        ColumnTransformer(remainder='passthrough',\n",
       "                                                          transformers=[('ordinal',\n",
       "                                                                         OrdinalEncoder(categories=[['< '\n",
       "                                                                                                     '1 '\n",
       "                                                                                                     'Year',\n",
       "                                                                                                     '1-2 '\n",
       "                                                                                                     'Year',\n",
       "                                                                                                     '> '\n",
       "                                                                                                     '2 '\n",
       "                                                                                                     'Years']]),\n",
       "                                                                         [5]),\n",
       "                                                                        ('one_hot',\n",
       "                                                                         OneHotEncoder(),\n",
       "                                                                         [0,\n",
       "                                                                          6]),\n",
       "                                                                        ('scale',\n",
       "                                                                         MinMaxScaler(),\n",
       "                                                                         [1, 3,\n",
       "                                                                          8,\n",
       "                                                                          9]),\n",
       "                                                                        ('to_drop',\n",
       "                                                                         'drop',\n",
       "                                                                         [2])])),\n",
       "                                       ('clf',\n",
       "                                        LinearSVC(dual=False,\n",
       "                                                  random_state=42))]),\n",
       "             param_grid=[{'clf__C': [0.1, 0.5, 1, 5, 10, 50, 100],\n",
       "                          'clf__penalty': ['l1', 'l2']}],\n",
       "             refit='roc_auc', scoring=['roc_auc', 'recall', 'precision'])"
      ]
     },
     "execution_count": 20,
     "metadata": {},
     "output_type": "execute_result"
    }
   ],
   "source": [
    "svc_param_grid = [\n",
    "    {'clf__penalty': ['l1', 'l2'], \n",
    "    'clf__C': [0.1, 0.5, 1, 5, 10, 50, 100]\n",
    "    }]\n",
    "\n",
    "grid_search_svc = GridSearchCV(svc_model, svc_param_grid, scoring=metrics, refit='roc_auc')\n",
    "grid_search_svc.fit(X_train, y_train)"
   ]
  },
  {
   "cell_type": "code",
   "execution_count": 21,
   "metadata": {
    "scrolled": true
   },
   "outputs": [
    {
     "name": "stdout",
     "output_type": "stream",
     "text": [
      "{'best_index': 0, 'best_params': {'clf__C': 0.1, 'clf__penalty': 'l1'}, 'roc_auc': 0.8283952871105408, 'recall': 0.9725173793828905, 'precision': 0.24939707474390493}\n"
     ]
    }
   ],
   "source": [
    "best_estimator_svc = grid_search_svc.best_estimator_\n",
    "dump(best_estimator_svc, 'models/svc_model.joblib')\n",
    "\n",
    "best_svc = grid_best(metrics, grid_search_svc)\n",
    "print(best_svc)"
   ]
  },
  {
   "cell_type": "code",
   "execution_count": 22,
   "metadata": {
    "scrolled": true
   },
   "outputs": [
    {
     "data": {
      "text/plain": [
       "array([0.82839529, 0.82773318, 0.82836867, 0.82773647, 0.82836916,\n",
       "       0.82773689, 0.82836956, 0.82773721, 0.82836965, 0.82773723,\n",
       "       0.82836971, 0.82773726, 0.82836972, 0.82773726])"
      ]
     },
     "execution_count": 22,
     "metadata": {},
     "output_type": "execute_result"
    }
   ],
   "source": [
    "grid_search_svc.cv_results_['mean_test_roc_auc']"
   ]
  },
  {
   "cell_type": "markdown",
   "metadata": {},
   "source": [
    "The best result obtained by grid search is marginally better than the default parameters. Indeed, analysis of the results show that performance does not vary much. This suggests that further hyperparameter tuning is not necessary.<br>\n",
    "\n",
    "### Random Forest classifier\n",
    "#### Default parameters\n",
    "\n",
    "This uses Gini impurity and 100 estimators."
   ]
  },
  {
   "cell_type": "code",
   "execution_count": 23,
   "metadata": {},
   "outputs": [
    {
     "name": "stdout",
     "output_type": "stream",
     "text": [
      "{'roc_auc': 0.8321887476060619, 'recall': 0.4661038246049463, 'precision': 0.31957850277655797}\n"
     ]
    }
   ],
   "source": [
    "rf_model = make_pipe(RandomForestClassifier(random_state=42))\n",
    "rf_scores = cross_validate(rf_model, X_train, y_train, scoring=metrics)\n",
    "\n",
    "rf_avg_scores = avg_scores(metrics, rf_scores)\n",
    "print(rf_avg_scores)"
   ]
  },
  {
   "cell_type": "markdown",
   "metadata": {},
   "source": [
    "#### Hyperparameter tuning using GridSearchCV"
   ]
  },
  {
   "cell_type": "code",
   "execution_count": 24,
   "metadata": {
    "scrolled": true
   },
   "outputs": [
    {
     "data": {
      "text/plain": [
       "GridSearchCV(estimator=Pipeline(memory='pipe_cache',\n",
       "                                steps=[('sampling',\n",
       "                                        SMOTENC(categorical_features=[5, 0, 6],\n",
       "                                                random_state=42)),\n",
       "                                       ('transfomer',\n",
       "                                        ColumnTransformer(remainder='passthrough',\n",
       "                                                          transformers=[('ordinal',\n",
       "                                                                         OrdinalEncoder(categories=[['< '\n",
       "                                                                                                     '1 '\n",
       "                                                                                                     'Year',\n",
       "                                                                                                     '1-2 '\n",
       "                                                                                                     'Year',\n",
       "                                                                                                     '> '\n",
       "                                                                                                     '2 '\n",
       "                                                                                                     'Years']]),\n",
       "                                                                         [5]),\n",
       "                                                                        ('one_hot',\n",
       "                                                                         OneHotEncoder(),\n",
       "                                                                         [0,\n",
       "                                                                          6]),\n",
       "                                                                        ('scale',\n",
       "                                                                         MinMaxScaler(),\n",
       "                                                                         [1, 3,\n",
       "                                                                          8,\n",
       "                                                                          9]),\n",
       "                                                                        ('to_drop',\n",
       "                                                                         'drop',\n",
       "                                                                         [2])])),\n",
       "                                       ('clf',\n",
       "                                        RandomForestClassifier(random_state=42))]),\n",
       "             param_grid=[{'clf__max_depth': [2, 4, 8, 16, 32, 64, 100],\n",
       "                          'clf__n_estimators': [4, 8, 16, 32, 64, 100, 200]},\n",
       "                         {'clf__min_samples_split': [0.01, 0.025, 0.05, 0.1,\n",
       "                                                     0.25],\n",
       "                          'clf__n_estimators': [4, 8, 16, 32, 64, 100, 200]}],\n",
       "             refit='roc_auc', scoring=['roc_auc', 'recall', 'precision'])"
      ]
     },
     "execution_count": 24,
     "metadata": {},
     "output_type": "execute_result"
    }
   ],
   "source": [
    "rf_param_grid = [\n",
    "    {'clf__n_estimators':[4, 8, 16, 32, 64, 100, 200],\n",
    "     'clf__max_depth': [2, 4, 8, 16, 32, 64, 100]\n",
    "    },\n",
    "    {'clf__n_estimators':[4, 8, 16, 32, 64, 100, 200],\n",
    "     'clf__min_samples_split':[0.01, 0.025, 0.05, 0.1, 0.25]\n",
    "    }]\n",
    "\n",
    "grid_search_rf = GridSearchCV(rf_model, rf_param_grid, scoring=metrics, refit='roc_auc')\n",
    "grid_search_rf.fit(X_train, y_train)"
   ]
  },
  {
   "cell_type": "code",
   "execution_count": 25,
   "metadata": {
    "scrolled": true
   },
   "outputs": [
    {
     "name": "stdout",
     "output_type": "stream",
     "text": [
      "{'best_index': 27, 'best_params': {'clf__max_depth': 16, 'clf__n_estimators': 200}, 'roc_auc': 0.8402495230017726, 'recall': 0.7158418679622823, 'precision': 0.31207635854509463}\n"
     ]
    }
   ],
   "source": [
    "best_estimator_rf = grid_search_rf.best_estimator_\n",
    "dump(best_estimator_rf, 'models/rf_model.joblib')\n",
    "\n",
    "best_rf = grid_best(metrics, grid_search_rf)\n",
    "print(best_rf)"
   ]
  },
  {
   "cell_type": "code",
   "execution_count": 26,
   "metadata": {},
   "outputs": [
    {
     "data": {
      "text/plain": [
       "{'mean_fit_time': array([  4.02001977,   4.53648186,   5.43762822,   7.86271205,\n",
       "         10.61735654,  14.27249351,  25.1409091 ,   4.28706346,\n",
       "          5.02613716,   6.68177004,   9.51319151,  14.49403915,\n",
       "         21.38126779,  37.49546194,   4.8007062 ,   5.81303968,\n",
       "          8.11801186,  12.93511109,  21.79476929,  32.26637883,\n",
       "         61.46544142,   5.29089799,   7.00119705,  10.62650867,\n",
       "         17.47942286,  32.20334916,  46.42233248,  88.7330266 ,\n",
       "          5.51505427,   7.54546642,  11.64567442,  19.81289639,\n",
       "         36.18635602,  54.41024523, 106.09030018,   5.58921323,\n",
       "          7.69160743,  11.91694531,  20.48448696,  37.45741549,\n",
       "         56.45078912, 113.34184375,   5.67713184,   8.00508804,\n",
       "         12.11766853,  21.04800887,  40.9135942 ,  60.05648575,\n",
       "        118.48609838,   5.18058023,   6.38749576,  10.08042879,\n",
       "         16.17237763,  28.70699773,  40.7082922 ,  81.94679332,\n",
       "          5.14799948,   6.57156863,   9.51225972,  13.90268726,\n",
       "         25.84877257,  38.01062074,  75.25321431,   4.95675373,\n",
       "          6.31258817,   8.44495449,  12.7950901 ,  22.72729926,\n",
       "         36.01889009,  68.7043479 ,   4.86096735,   6.30736012,\n",
       "          8.1529767 ,  12.14160089,  21.00506959,  30.88890676,\n",
       "         58.04545588,   4.46915193,   5.0338439 ,   6.46143956,\n",
       "          9.30302119,  15.92548623,  21.91336465,  41.25992699]),\n",
       " 'std_fit_time': array([0.03800699, 0.12656839, 0.1761454 , 0.20193501, 0.47426337,\n",
       "        0.03032473, 0.04839953, 0.01211371, 0.01612953, 0.29895006,\n",
       "        0.309227  , 0.31364418, 0.40824106, 1.0249736 , 0.08833007,\n",
       "        0.02928417, 0.13060661, 0.24379311, 0.83513217, 0.87364164,\n",
       "        1.11135491, 0.05303821, 0.09032562, 0.44526688, 0.12335256,\n",
       "        1.49170896, 1.22777625, 2.25802339, 0.05422598, 0.05313369,\n",
       "        0.08122179, 0.24135763, 0.18121557, 0.17414386, 0.20560702,\n",
       "        0.02023196, 0.0426647 , 0.05348489, 0.2157448 , 0.30145413,\n",
       "        0.17103199, 2.23472469, 0.04046648, 0.22311216, 0.11661012,\n",
       "        0.89458756, 2.33072729, 2.04348159, 2.48744477, 0.12173992,\n",
       "        0.0559639 , 0.39342665, 1.26113975, 1.35634693, 0.53081671,\n",
       "        3.67846084, 0.16984206, 0.08800237, 0.0990339 , 0.69356014,\n",
       "        0.77564769, 1.38038965, 2.37631031, 0.05611905, 0.10932673,\n",
       "        0.26966413, 0.33136155, 0.87447505, 1.33094797, 3.05711781,\n",
       "        0.07673713, 0.13474702, 0.23214956, 0.06379715, 0.17623117,\n",
       "        0.29553749, 0.49819802, 0.087909  , 0.07735328, 0.06260016,\n",
       "        0.399879  , 0.35931514, 0.12105977, 0.20987084]),\n",
       " 'mean_score_time': array([0.11776977, 0.13734469, 0.17304292, 0.26581483, 0.37105355,\n",
       "        0.51909437, 0.92920947, 0.11949053, 0.14195476, 0.18738575,\n",
       "        0.27645025, 0.47402306, 0.63479915, 1.11325727, 0.1340023 ,\n",
       "        0.15822139, 0.22299361, 0.38055677, 0.60134616, 0.88975949,\n",
       "        1.63915153, 0.15393648, 0.20563016, 0.31487427, 0.52081733,\n",
       "        0.97554417, 1.42301536, 2.66305017, 0.17359405, 0.25442371,\n",
       "        0.41739154, 0.738942  , 1.386731  , 2.09527345, 4.14134021,\n",
       "        0.17702556, 0.26299944, 0.43822093, 0.78197408, 1.48553619,\n",
       "        2.25509915, 4.50116811, 0.18243732, 0.28300014, 0.4366056 ,\n",
       "        0.79635463, 1.60470357, 2.39634547, 4.77072792, 0.13740697,\n",
       "        0.16939712, 0.2525979 , 0.39299684, 0.69723902, 0.99098687,\n",
       "        1.90315528, 0.13983927, 0.16712666, 0.22973461, 0.33973074,\n",
       "        0.5865747 , 0.85570049, 1.64143381, 0.13152246, 0.15994329,\n",
       "        0.20927505, 0.31258378, 0.51692181, 0.80360551, 1.50294929,\n",
       "        0.1314167 , 0.15997624, 0.19201236, 0.28686533, 0.46747093,\n",
       "        0.67870936, 1.24896245, 0.12632866, 0.1399179 , 0.18010182,\n",
       "        0.25418639, 0.41205063, 0.56209626, 1.0290916 ]),\n",
       " 'std_score_time': array([0.00390871, 0.00343191, 0.01101293, 0.01112989, 0.0058727 ,\n",
       "        0.00477909, 0.00316352, 0.00292172, 0.00227739, 0.00784798,\n",
       "        0.01208469, 0.06669054, 0.0141438 , 0.00935789, 0.0051686 ,\n",
       "        0.00230195, 0.00275933, 0.02513076, 0.01977066, 0.02755017,\n",
       "        0.0224029 , 0.00323155, 0.00337969, 0.01738336, 0.00974131,\n",
       "        0.03444629, 0.06565304, 0.03869412, 0.00185697, 0.00348647,\n",
       "        0.00241368, 0.00513327, 0.0151987 , 0.01152318, 0.01880554,\n",
       "        0.00170286, 0.00178803, 0.00486549, 0.00589782, 0.03563382,\n",
       "        0.01449315, 0.08103032, 0.00448583, 0.02515793, 0.00150024,\n",
       "        0.01069204, 0.10741373, 0.15715739, 0.20404298, 0.00258685,\n",
       "        0.00233146, 0.00917248, 0.01302428, 0.02773897, 0.01800586,\n",
       "        0.04268055, 0.0065269 , 0.00245896, 0.00311564, 0.00981775,\n",
       "        0.0169917 , 0.01345145, 0.01013873, 0.00156234, 0.0030371 ,\n",
       "        0.00156163, 0.00409428, 0.00632788, 0.04397446, 0.03247135,\n",
       "        0.00853399, 0.00828943, 0.00243885, 0.00447115, 0.00151162,\n",
       "        0.00906138, 0.01841707, 0.0041031 , 0.00373031, 0.00936682,\n",
       "        0.00560293, 0.02082831, 0.00363183, 0.01255898]),\n",
       " 'param_clf__max_depth': masked_array(data=[2, 2, 2, 2, 2, 2, 2, 4, 4, 4, 4, 4, 4, 4, 8, 8, 8, 8,\n",
       "                    8, 8, 8, 16, 16, 16, 16, 16, 16, 16, 32, 32, 32, 32,\n",
       "                    32, 32, 32, 64, 64, 64, 64, 64, 64, 64, 100, 100, 100,\n",
       "                    100, 100, 100, 100, --, --, --, --, --, --, --, --, --,\n",
       "                    --, --, --, --, --, --, --, --, --, --, --, --, --, --,\n",
       "                    --, --, --, --, --, --, --, --, --, --, --, --],\n",
       "              mask=[False, False, False, False, False, False, False, False,\n",
       "                    False, False, False, False, False, False, False, False,\n",
       "                    False, False, False, False, False, False, False, False,\n",
       "                    False, False, False, False, False, False, False, False,\n",
       "                    False, False, False, False, False, False, False, False,\n",
       "                    False, False, False, False, False, False, False, False,\n",
       "                    False,  True,  True,  True,  True,  True,  True,  True,\n",
       "                     True,  True,  True,  True,  True,  True,  True,  True,\n",
       "                     True,  True,  True,  True,  True,  True,  True,  True,\n",
       "                     True,  True,  True,  True,  True,  True,  True,  True,\n",
       "                     True,  True,  True,  True],\n",
       "        fill_value='?',\n",
       "             dtype=object),\n",
       " 'param_clf__n_estimators': masked_array(data=[4, 8, 16, 32, 64, 100, 200, 4, 8, 16, 32, 64, 100, 200,\n",
       "                    4, 8, 16, 32, 64, 100, 200, 4, 8, 16, 32, 64, 100, 200,\n",
       "                    4, 8, 16, 32, 64, 100, 200, 4, 8, 16, 32, 64, 100, 200,\n",
       "                    4, 8, 16, 32, 64, 100, 200, 4, 8, 16, 32, 64, 100, 200,\n",
       "                    4, 8, 16, 32, 64, 100, 200, 4, 8, 16, 32, 64, 100, 200,\n",
       "                    4, 8, 16, 32, 64, 100, 200, 4, 8, 16, 32, 64, 100, 200],\n",
       "              mask=[False, False, False, False, False, False, False, False,\n",
       "                    False, False, False, False, False, False, False, False,\n",
       "                    False, False, False, False, False, False, False, False,\n",
       "                    False, False, False, False, False, False, False, False,\n",
       "                    False, False, False, False, False, False, False, False,\n",
       "                    False, False, False, False, False, False, False, False,\n",
       "                    False, False, False, False, False, False, False, False,\n",
       "                    False, False, False, False, False, False, False, False,\n",
       "                    False, False, False, False, False, False, False, False,\n",
       "                    False, False, False, False, False, False, False, False,\n",
       "                    False, False, False, False],\n",
       "        fill_value='?',\n",
       "             dtype=object),\n",
       " 'param_clf__min_samples_split': masked_array(data=[--, --, --, --, --, --, --, --, --, --, --, --, --, --,\n",
       "                    --, --, --, --, --, --, --, --, --, --, --, --, --, --,\n",
       "                    --, --, --, --, --, --, --, --, --, --, --, --, --, --,\n",
       "                    --, --, --, --, --, --, --, 0.01, 0.01, 0.01, 0.01,\n",
       "                    0.01, 0.01, 0.01, 0.025, 0.025, 0.025, 0.025, 0.025,\n",
       "                    0.025, 0.025, 0.05, 0.05, 0.05, 0.05, 0.05, 0.05, 0.05,\n",
       "                    0.1, 0.1, 0.1, 0.1, 0.1, 0.1, 0.1, 0.25, 0.25, 0.25,\n",
       "                    0.25, 0.25, 0.25, 0.25],\n",
       "              mask=[ True,  True,  True,  True,  True,  True,  True,  True,\n",
       "                     True,  True,  True,  True,  True,  True,  True,  True,\n",
       "                     True,  True,  True,  True,  True,  True,  True,  True,\n",
       "                     True,  True,  True,  True,  True,  True,  True,  True,\n",
       "                     True,  True,  True,  True,  True,  True,  True,  True,\n",
       "                     True,  True,  True,  True,  True,  True,  True,  True,\n",
       "                     True, False, False, False, False, False, False, False,\n",
       "                    False, False, False, False, False, False, False, False,\n",
       "                    False, False, False, False, False, False, False, False,\n",
       "                    False, False, False, False, False, False, False, False,\n",
       "                    False, False, False, False],\n",
       "        fill_value='?',\n",
       "             dtype=object),\n",
       " 'params': [{'clf__max_depth': 2, 'clf__n_estimators': 4},\n",
       "  {'clf__max_depth': 2, 'clf__n_estimators': 8},\n",
       "  {'clf__max_depth': 2, 'clf__n_estimators': 16},\n",
       "  {'clf__max_depth': 2, 'clf__n_estimators': 32},\n",
       "  {'clf__max_depth': 2, 'clf__n_estimators': 64},\n",
       "  {'clf__max_depth': 2, 'clf__n_estimators': 100},\n",
       "  {'clf__max_depth': 2, 'clf__n_estimators': 200},\n",
       "  {'clf__max_depth': 4, 'clf__n_estimators': 4},\n",
       "  {'clf__max_depth': 4, 'clf__n_estimators': 8},\n",
       "  {'clf__max_depth': 4, 'clf__n_estimators': 16},\n",
       "  {'clf__max_depth': 4, 'clf__n_estimators': 32},\n",
       "  {'clf__max_depth': 4, 'clf__n_estimators': 64},\n",
       "  {'clf__max_depth': 4, 'clf__n_estimators': 100},\n",
       "  {'clf__max_depth': 4, 'clf__n_estimators': 200},\n",
       "  {'clf__max_depth': 8, 'clf__n_estimators': 4},\n",
       "  {'clf__max_depth': 8, 'clf__n_estimators': 8},\n",
       "  {'clf__max_depth': 8, 'clf__n_estimators': 16},\n",
       "  {'clf__max_depth': 8, 'clf__n_estimators': 32},\n",
       "  {'clf__max_depth': 8, 'clf__n_estimators': 64},\n",
       "  {'clf__max_depth': 8, 'clf__n_estimators': 100},\n",
       "  {'clf__max_depth': 8, 'clf__n_estimators': 200},\n",
       "  {'clf__max_depth': 16, 'clf__n_estimators': 4},\n",
       "  {'clf__max_depth': 16, 'clf__n_estimators': 8},\n",
       "  {'clf__max_depth': 16, 'clf__n_estimators': 16},\n",
       "  {'clf__max_depth': 16, 'clf__n_estimators': 32},\n",
       "  {'clf__max_depth': 16, 'clf__n_estimators': 64},\n",
       "  {'clf__max_depth': 16, 'clf__n_estimators': 100},\n",
       "  {'clf__max_depth': 16, 'clf__n_estimators': 200},\n",
       "  {'clf__max_depth': 32, 'clf__n_estimators': 4},\n",
       "  {'clf__max_depth': 32, 'clf__n_estimators': 8},\n",
       "  {'clf__max_depth': 32, 'clf__n_estimators': 16},\n",
       "  {'clf__max_depth': 32, 'clf__n_estimators': 32},\n",
       "  {'clf__max_depth': 32, 'clf__n_estimators': 64},\n",
       "  {'clf__max_depth': 32, 'clf__n_estimators': 100},\n",
       "  {'clf__max_depth': 32, 'clf__n_estimators': 200},\n",
       "  {'clf__max_depth': 64, 'clf__n_estimators': 4},\n",
       "  {'clf__max_depth': 64, 'clf__n_estimators': 8},\n",
       "  {'clf__max_depth': 64, 'clf__n_estimators': 16},\n",
       "  {'clf__max_depth': 64, 'clf__n_estimators': 32},\n",
       "  {'clf__max_depth': 64, 'clf__n_estimators': 64},\n",
       "  {'clf__max_depth': 64, 'clf__n_estimators': 100},\n",
       "  {'clf__max_depth': 64, 'clf__n_estimators': 200},\n",
       "  {'clf__max_depth': 100, 'clf__n_estimators': 4},\n",
       "  {'clf__max_depth': 100, 'clf__n_estimators': 8},\n",
       "  {'clf__max_depth': 100, 'clf__n_estimators': 16},\n",
       "  {'clf__max_depth': 100, 'clf__n_estimators': 32},\n",
       "  {'clf__max_depth': 100, 'clf__n_estimators': 64},\n",
       "  {'clf__max_depth': 100, 'clf__n_estimators': 100},\n",
       "  {'clf__max_depth': 100, 'clf__n_estimators': 200},\n",
       "  {'clf__min_samples_split': 0.01, 'clf__n_estimators': 4},\n",
       "  {'clf__min_samples_split': 0.01, 'clf__n_estimators': 8},\n",
       "  {'clf__min_samples_split': 0.01, 'clf__n_estimators': 16},\n",
       "  {'clf__min_samples_split': 0.01, 'clf__n_estimators': 32},\n",
       "  {'clf__min_samples_split': 0.01, 'clf__n_estimators': 64},\n",
       "  {'clf__min_samples_split': 0.01, 'clf__n_estimators': 100},\n",
       "  {'clf__min_samples_split': 0.01, 'clf__n_estimators': 200},\n",
       "  {'clf__min_samples_split': 0.025, 'clf__n_estimators': 4},\n",
       "  {'clf__min_samples_split': 0.025, 'clf__n_estimators': 8},\n",
       "  {'clf__min_samples_split': 0.025, 'clf__n_estimators': 16},\n",
       "  {'clf__min_samples_split': 0.025, 'clf__n_estimators': 32},\n",
       "  {'clf__min_samples_split': 0.025, 'clf__n_estimators': 64},\n",
       "  {'clf__min_samples_split': 0.025, 'clf__n_estimators': 100},\n",
       "  {'clf__min_samples_split': 0.025, 'clf__n_estimators': 200},\n",
       "  {'clf__min_samples_split': 0.05, 'clf__n_estimators': 4},\n",
       "  {'clf__min_samples_split': 0.05, 'clf__n_estimators': 8},\n",
       "  {'clf__min_samples_split': 0.05, 'clf__n_estimators': 16},\n",
       "  {'clf__min_samples_split': 0.05, 'clf__n_estimators': 32},\n",
       "  {'clf__min_samples_split': 0.05, 'clf__n_estimators': 64},\n",
       "  {'clf__min_samples_split': 0.05, 'clf__n_estimators': 100},\n",
       "  {'clf__min_samples_split': 0.05, 'clf__n_estimators': 200},\n",
       "  {'clf__min_samples_split': 0.1, 'clf__n_estimators': 4},\n",
       "  {'clf__min_samples_split': 0.1, 'clf__n_estimators': 8},\n",
       "  {'clf__min_samples_split': 0.1, 'clf__n_estimators': 16},\n",
       "  {'clf__min_samples_split': 0.1, 'clf__n_estimators': 32},\n",
       "  {'clf__min_samples_split': 0.1, 'clf__n_estimators': 64},\n",
       "  {'clf__min_samples_split': 0.1, 'clf__n_estimators': 100},\n",
       "  {'clf__min_samples_split': 0.1, 'clf__n_estimators': 200},\n",
       "  {'clf__min_samples_split': 0.25, 'clf__n_estimators': 4},\n",
       "  {'clf__min_samples_split': 0.25, 'clf__n_estimators': 8},\n",
       "  {'clf__min_samples_split': 0.25, 'clf__n_estimators': 16},\n",
       "  {'clf__min_samples_split': 0.25, 'clf__n_estimators': 32},\n",
       "  {'clf__min_samples_split': 0.25, 'clf__n_estimators': 64},\n",
       "  {'clf__min_samples_split': 0.25, 'clf__n_estimators': 100},\n",
       "  {'clf__min_samples_split': 0.25, 'clf__n_estimators': 200}],\n",
       " 'split0_test_roc_auc': array([0.80787365, 0.8164747 , 0.81926532, 0.81980916, 0.82158363,\n",
       "        0.82297016, 0.82665335, 0.83243922, 0.83006387, 0.8332    ,\n",
       "        0.83306225, 0.83423642, 0.83464261, 0.83386894, 0.83585716,\n",
       "        0.83676993, 0.83758334, 0.83816517, 0.83761701, 0.83744643,\n",
       "        0.83751815, 0.83471006, 0.83776447, 0.83875933, 0.83972738,\n",
       "        0.83991788, 0.84006065, 0.84025475, 0.78446264, 0.81023202,\n",
       "        0.82346884, 0.82887447, 0.83265801, 0.83380181, 0.83474856,\n",
       "        0.76880504, 0.80348964, 0.81927712, 0.82711459, 0.83028592,\n",
       "        0.83179025, 0.83283081, 0.76880389, 0.80407557, 0.81910931,\n",
       "        0.82715108, 0.83028809, 0.83193174, 0.83288913, 0.83700307,\n",
       "        0.83804784, 0.83900556, 0.83886617, 0.83879729, 0.83882642,\n",
       "        0.83877586, 0.83694599, 0.83728565, 0.83755013, 0.83731916,\n",
       "        0.83716554, 0.83729322, 0.83727044, 0.83333157, 0.83539412,\n",
       "        0.8353756 , 0.8351569 , 0.83493974, 0.83564194, 0.83559512,\n",
       "        0.83257493, 0.83376519, 0.83327784, 0.83365891, 0.83364244,\n",
       "        0.83404682, 0.83382693, 0.82742693, 0.82534719, 0.82527886,\n",
       "        0.82461534, 0.82754001, 0.8270995 , 0.8280359 ]),\n",
       " 'split1_test_roc_auc': array([0.80396069, 0.81341348, 0.81673918, 0.81579103, 0.81775575,\n",
       "        0.82055024, 0.82429674, 0.82903129, 0.8277902 , 0.83120317,\n",
       "        0.83129494, 0.83257362, 0.83304576, 0.83218195, 0.83241094,\n",
       "        0.83409392, 0.83488708, 0.83470376, 0.83514824, 0.83534165,\n",
       "        0.83524072, 0.8296746 , 0.83398306, 0.83589917, 0.83674977,\n",
       "        0.83720098, 0.83736028, 0.83736803, 0.78353824, 0.80833329,\n",
       "        0.82148777, 0.82825057, 0.83163055, 0.8318512 , 0.83294704,\n",
       "        0.76564894, 0.80115325, 0.81683243, 0.82538549, 0.82939638,\n",
       "        0.83071643, 0.83145187, 0.76564894, 0.80115325, 0.8167408 ,\n",
       "        0.82542772, 0.82954679, 0.83065588, 0.83137528, 0.83471944,\n",
       "        0.83545733, 0.83574916, 0.83594972, 0.8359164 , 0.83588536,\n",
       "        0.83589885, 0.8325498 , 0.83387741, 0.83466079, 0.8354782 ,\n",
       "        0.83527305, 0.83534808, 0.83525438, 0.83284175, 0.83351121,\n",
       "        0.83402971, 0.8334013 , 0.83320623, 0.8337916 , 0.83396843,\n",
       "        0.82985112, 0.83019768, 0.83073194, 0.83207084, 0.83229035,\n",
       "        0.83221805, 0.83216279, 0.82420306, 0.82197549, 0.82229217,\n",
       "        0.82151972, 0.82546324, 0.82447923, 0.82597591]),\n",
       " 'split2_test_roc_auc': array([0.8100827 , 0.82008094, 0.82315433, 0.82238374, 0.8243547 ,\n",
       "        0.82776643, 0.83136477, 0.8387893 , 0.83645249, 0.83771273,\n",
       "        0.83775194, 0.83900589, 0.84037432, 0.83941116, 0.84234737,\n",
       "        0.84365776, 0.84242503, 0.84173536, 0.84206467, 0.84220171,\n",
       "        0.84244317, 0.83873389, 0.84167471, 0.84301591, 0.84365045,\n",
       "        0.84403956, 0.84407131, 0.8442035 , 0.7864116 , 0.8143253 ,\n",
       "        0.8275287 , 0.83372682, 0.83639411, 0.8375038 , 0.83869027,\n",
       "        0.77665081, 0.81023505, 0.82498586, 0.83235337, 0.83553922,\n",
       "        0.83629828, 0.83733616, 0.77543508, 0.8090368 , 0.8243489 ,\n",
       "        0.8324313 , 0.83562954, 0.83647716, 0.83752526, 0.84072286,\n",
       "        0.84190289, 0.84229792, 0.84213447, 0.84252599, 0.84291738,\n",
       "        0.84274953, 0.84055997, 0.84102077, 0.84195101, 0.84141912,\n",
       "        0.84169265, 0.84208476, 0.84192506, 0.84051634, 0.84136722,\n",
       "        0.84137008, 0.84088468, 0.84103678, 0.8411519 , 0.84124428,\n",
       "        0.83812721, 0.83905098, 0.83833457, 0.83815437, 0.8384765 ,\n",
       "        0.83862595, 0.83866545, 0.83124971, 0.8305274 , 0.83038568,\n",
       "        0.82973155, 0.8328785 , 0.8326322 , 0.83385522]),\n",
       " 'split3_test_roc_auc': array([0.80607072, 0.81563263, 0.81825154, 0.81761459, 0.81953947,\n",
       "        0.82333164, 0.82726348, 0.83123807, 0.83274676, 0.83401256,\n",
       "        0.83354211, 0.83501363, 0.83558439, 0.83465375, 0.83893749,\n",
       "        0.83664483, 0.83707486, 0.83739081, 0.83796385, 0.83776246,\n",
       "        0.83813578, 0.832981  , 0.83717268, 0.83832458, 0.83900902,\n",
       "        0.83936338, 0.8393343 , 0.83932216, 0.78481045, 0.8120306 ,\n",
       "        0.82449237, 0.82951775, 0.83216831, 0.83323972, 0.83398109,\n",
       "        0.77068102, 0.8030119 , 0.81907707, 0.82598004, 0.82929323,\n",
       "        0.83029897, 0.83166646, 0.77068102, 0.8030119 , 0.81944938,\n",
       "        0.8262174 , 0.82936483, 0.83038668, 0.83175765, 0.83535911,\n",
       "        0.83699095, 0.83767848, 0.83795309, 0.83835715, 0.83834902,\n",
       "        0.83809597, 0.83695896, 0.83721927, 0.83659459, 0.83699783,\n",
       "        0.83733443, 0.83757434, 0.83744455, 0.83440905, 0.83357588,\n",
       "        0.83509772, 0.83530585, 0.83582513, 0.83604726, 0.83633977,\n",
       "        0.83305044, 0.83221628, 0.83273851, 0.83377488, 0.83430753,\n",
       "        0.83439039, 0.83430912, 0.8274112 , 0.82513883, 0.82521584,\n",
       "        0.82540527, 0.82845428, 0.82813165, 0.82958286]),\n",
       " 'split4_test_roc_auc': array([0.8058905 , 0.81592011, 0.81898179, 0.81886364, 0.82011344,\n",
       "        0.82393515, 0.82725335, 0.83197168, 0.83234164, 0.83355289,\n",
       "        0.83349801, 0.83425959, 0.83489838, 0.83420195, 0.8356618 ,\n",
       "        0.83799214, 0.83811518, 0.83870851, 0.83820367, 0.83839325,\n",
       "        0.83873535, 0.83446931, 0.83717245, 0.83938313, 0.83955344,\n",
       "        0.83988431, 0.83994991, 0.84009917, 0.78429954, 0.81070976,\n",
       "        0.82399498, 0.83036375, 0.83346288, 0.8343269 , 0.83533486,\n",
       "        0.76856372, 0.80367486, 0.81920577, 0.82610227, 0.83012447,\n",
       "        0.83142044, 0.83268397, 0.76831499, 0.80398908, 0.81927485,\n",
       "        0.82607737, 0.83012024, 0.83149228, 0.83283105, 0.83799496,\n",
       "        0.83817467, 0.83801704, 0.83797836, 0.83863698, 0.83856334,\n",
       "        0.83876942, 0.83699191, 0.83794965, 0.83825313, 0.83817439,\n",
       "        0.83761169, 0.83745523, 0.83781811, 0.83414581, 0.83283051,\n",
       "        0.8350671 , 0.8351274 , 0.83574119, 0.83609535, 0.83629844,\n",
       "        0.8340038 , 0.83439363, 0.83342792, 0.83426313, 0.83467826,\n",
       "        0.83471871, 0.83455375, 0.82725105, 0.82629308, 0.82631068,\n",
       "        0.82557599, 0.82806388, 0.82787493, 0.8290425 ]),\n",
       " 'mean_test_roc_auc': array([0.80677565, 0.81630437, 0.81927843, 0.81889243, 0.8206694 ,\n",
       "        0.82371072, 0.82736634, 0.83269391, 0.83187899, 0.83393627,\n",
       "        0.83382985, 0.83501783, 0.83570909, 0.83486355, 0.83704295,\n",
       "        0.83783172, 0.8380171 , 0.83814072, 0.83819949, 0.8382291 ,\n",
       "        0.83841463, 0.83411377, 0.83755347, 0.83907642, 0.83973801,\n",
       "        0.84008122, 0.84015529, 0.84024952, 0.78470449, 0.8111262 ,\n",
       "        0.82419453, 0.83014667, 0.83326277, 0.83414469, 0.83514036,\n",
       "        0.77006991, 0.80431294, 0.81987565, 0.82738715, 0.83092784,\n",
       "        0.83210487, 0.83319385, 0.76977678, 0.80425332, 0.81978465,\n",
       "        0.82746097, 0.8309899 , 0.83218875, 0.83327567, 0.83715989,\n",
       "        0.83811473, 0.83854963, 0.83857636, 0.83884676, 0.8389083 ,\n",
       "        0.83885793, 0.83680133, 0.83747055, 0.83780193, 0.83787774,\n",
       "        0.83781547, 0.83795112, 0.83794251, 0.8350489 , 0.83533579,\n",
       "        0.83618804, 0.83597523, 0.83614982, 0.83654561, 0.83668921,\n",
       "        0.8335215 , 0.83392475, 0.83370216, 0.83438443, 0.83467902,\n",
       "        0.83479998, 0.83470361, 0.82750839, 0.8258564 , 0.82589665,\n",
       "        0.82536957, 0.82847998, 0.8280435 , 0.82929848]),\n",
       " 'std_test_roc_auc': array([0.00206623, 0.00215628, 0.00212664, 0.00220372, 0.00221325,\n",
       "        0.00233152, 0.00227779, 0.00326418, 0.00289472, 0.00211785,\n",
       "        0.00212559, 0.00214776, 0.0024766 , 0.00242251, 0.00336141,\n",
       "        0.00317728, 0.00246221, 0.0022636 , 0.00222012, 0.00223501,\n",
       "        0.00233611, 0.00292632, 0.00245223, 0.00229671, 0.00222721,\n",
       "        0.00221563, 0.00218506, 0.00222799, 0.00094953, 0.00199125,\n",
       "        0.0019544 , 0.00192218, 0.00167768, 0.00187155, 0.00194668,\n",
       "        0.0036632 , 0.00309298, 0.00271368, 0.00254461, 0.00233836,\n",
       "        0.00216061, 0.00214093, 0.00325442, 0.00261284, 0.002487  ,\n",
       "        0.00254539, 0.00234514, 0.00221534, 0.00220554, 0.00212675,\n",
       "        0.00212992, 0.00215141, 0.00201938, 0.00211707, 0.00226492,\n",
       "        0.00221341, 0.00254106, 0.00227339, 0.00240026, 0.0019735 ,\n",
       "        0.00210674, 0.00222187, 0.00218183, 0.00279065, 0.00313319,\n",
       "        0.00263125, 0.00255203, 0.00261854, 0.00245235, 0.00243406,\n",
       "        0.00268458, 0.00294393, 0.0025086 , 0.00202375, 0.00206587,\n",
       "        0.00209981, 0.00214935, 0.00223629, 0.00275117, 0.00261382,\n",
       "        0.0026253 , 0.0024292 , 0.00263391, 0.00259013]),\n",
       " 'rank_test_roc_auc': array([79, 77, 75, 76, 72, 71, 66, 53, 56, 45, 47, 37, 33, 38, 26, 20, 16,\n",
       "        14, 13, 12, 11, 44, 23,  5,  4,  3,  2,  1, 82, 78, 70, 59, 51, 43,\n",
       "        35, 83, 80, 73, 65, 58, 55, 52, 84, 81, 74, 64, 57, 54, 50, 25, 15,\n",
       "        10,  9,  8,  6,  7, 27, 24, 22, 19, 21, 17, 18, 36, 34, 30, 32, 31,\n",
       "        29, 28, 49, 46, 48, 42, 41, 39, 40, 63, 68, 67, 69, 61, 62, 60]),\n",
       " 'split0_test_recall': array([0.97929551, 0.948911  , 0.97082549, 0.91637537, 0.91664426,\n",
       "        0.91664426, 0.94433988, 0.8912342 , 0.88451197, 0.88854531,\n",
       "        0.8912342 , 0.90306534, 0.9053509 , 0.90333423, 0.83759075,\n",
       "        0.84027965, 0.83436408, 0.84081742, 0.84390965, 0.84874966,\n",
       "        0.84780855, 0.69292821, 0.70381823, 0.69857489, 0.70677602,\n",
       "        0.71349825, 0.71403603, 0.71322936, 0.42874429, 0.47512772,\n",
       "        0.49798333, 0.51344447, 0.51357892, 0.51855337, 0.51263781,\n",
       "        0.34081742, 0.40131756, 0.42901318, 0.44689433, 0.45885991,\n",
       "        0.46262436, 0.46988438, 0.34081742, 0.40091422, 0.42901318,\n",
       "        0.44702877, 0.45859102, 0.46571659, 0.46800215, 0.80545846,\n",
       "        0.80250067, 0.79618177, 0.81056736, 0.80424845, 0.80613068,\n",
       "        0.80586179, 0.83920409, 0.83221296, 0.84565743, 0.85009411,\n",
       "        0.86084969, 0.85910191, 0.85627857, 0.85627857, 0.84982522,\n",
       "        0.86851304, 0.86891638, 0.87187416, 0.87026082, 0.86716859,\n",
       "        0.90830869, 0.89889755, 0.88182307, 0.89405754, 0.89486421,\n",
       "        0.89365421, 0.88155418, 0.748185  , 0.85466523, 0.86582415,\n",
       "        0.86555526, 0.87510083, 0.87375639, 0.87308416]),\n",
       " 'split1_test_recall': array([0.87106749, 0.94474321, 0.96706104, 0.91422425, 0.91422425,\n",
       "        0.91341759, 0.94191987, 0.88746975, 0.88182307, 0.88599086,\n",
       "        0.88746975, 0.90172089, 0.90185534, 0.90051089, 0.82683517,\n",
       "        0.84942189, 0.83960742, 0.84122076, 0.84310298, 0.84243076,\n",
       "        0.84162409, 0.69790266, 0.70207045, 0.70664157, 0.71672493,\n",
       "        0.7109438 , 0.70825491, 0.70691046, 0.44649099, 0.47821995,\n",
       "        0.48803442, 0.50685668, 0.50927669, 0.51048669, 0.51626781,\n",
       "        0.33449852, 0.39607421, 0.42981984, 0.45119656, 0.4564399 ,\n",
       "        0.46127991, 0.46410325, 0.33449852, 0.39607421, 0.42323205,\n",
       "        0.44944878, 0.45590212, 0.46356547, 0.46531326, 0.77695617,\n",
       "        0.79308954, 0.78542619, 0.79792955, 0.79120731, 0.7902662 ,\n",
       "        0.79362732, 0.80303845, 0.82320516, 0.83933853, 0.84148965,\n",
       "        0.84753966, 0.849153  , 0.84780855, 0.81634848, 0.84995967,\n",
       "        0.8632697 , 0.86878193, 0.86810971, 0.86716859, 0.85695079,\n",
       "        0.89930089, 0.87926862, 0.88236085, 0.89540199, 0.88841086,\n",
       "        0.87456305, 0.87415972, 0.73837053, 0.85264856, 0.86515192,\n",
       "        0.86582415, 0.87429417, 0.87335305, 0.87335305]),\n",
       " 'split2_test_recall': array([0.97862041, 0.95307248, 0.97135942, 0.9197257 , 0.92026355,\n",
       "        0.92039801, 0.94957644, 0.8972704 , 0.89363991, 0.89337098,\n",
       "        0.89444669, 0.90977545, 0.90977545, 0.9092376 , 0.85464569,\n",
       "        0.85841065, 0.85693156, 0.85289767, 0.85558693, 0.8542423 ,\n",
       "        0.85625924, 0.71830039, 0.71588006, 0.71816593, 0.72085518,\n",
       "        0.71776254, 0.71843485, 0.71453543, 0.43310475, 0.47935996,\n",
       "        0.49643674, 0.51593384, 0.51566492, 0.51727847, 0.51324459,\n",
       "        0.34489714, 0.39155573, 0.42705392, 0.44292053, 0.45744252,\n",
       "        0.45986285, 0.46389673, 0.34919995, 0.39451392, 0.42880194,\n",
       "        0.44722334, 0.45999731, 0.46080409, 0.46443458, 0.78889337,\n",
       "        0.7949442 , 0.79803684, 0.80408767, 0.8043566 , 0.80718031,\n",
       "        0.81067635, 0.84886379, 0.8683609 , 0.86123437, 0.85867958,\n",
       "        0.86715073, 0.86795751, 0.86661288, 0.83635875, 0.85921743,\n",
       "        0.87279817, 0.87858007, 0.88167272, 0.8810004 , 0.8799247 ,\n",
       "        0.90869974, 0.88409305, 0.88879925, 0.89713594, 0.89861503,\n",
       "        0.89242974, 0.87979024, 0.74425171, 0.86231007, 0.86930214,\n",
       "        0.87185693, 0.87938685, 0.87871454, 0.87871454]),\n",
       " 'split3_test_recall': array([0.97727578, 0.94917305, 0.97068711, 0.91770875, 0.91891892,\n",
       "        0.92308727, 0.96732553, 0.89390883, 0.89579131, 0.89242974,\n",
       "        0.89310206, 0.90789297, 0.90964098, 0.90748958, 0.84496437,\n",
       "        0.85639371, 0.8531666 , 0.85128412, 0.85182197, 0.85289767,\n",
       "        0.85410784, 0.69826543, 0.71144279, 0.71453543, 0.7121151 ,\n",
       "        0.71695576, 0.71762808, 0.71951056, 0.43606293, 0.48446954,\n",
       "        0.49831921, 0.50934517, 0.51351351, 0.51620277, 0.5175474 ,\n",
       "        0.33481242, 0.39209359, 0.42328896, 0.44924029, 0.46564475,\n",
       "        0.46967863, 0.47142665, 0.33481242, 0.39209359, 0.42382681,\n",
       "        0.45085384, 0.46900632, 0.4719645 , 0.47411591, 0.77679172,\n",
       "        0.7960199 , 0.79749899, 0.80341536, 0.80704585, 0.80986957,\n",
       "        0.80798709, 0.83555197, 0.87010891, 0.87172247, 0.86378916,\n",
       "        0.8589485 , 0.86244453, 0.85733495, 0.85612478, 0.84133387,\n",
       "        0.8694366 , 0.8762942 , 0.87252925, 0.862579  , 0.85881404,\n",
       "        0.9077585 , 0.89310206, 0.88812693, 0.89780826, 0.88449644,\n",
       "        0.87266371, 0.85935189, 0.74586527, 0.86231007, 0.87212586,\n",
       "        0.86983999, 0.87979024, 0.87831115, 0.87844561]),\n",
       " 'split4_test_recall': array([0.9790238 , 0.95119   , 0.9696114 , 0.91959123, 0.92012908,\n",
       "        0.91959123, 0.95038322, 0.8914885 , 0.89498454, 0.89162297,\n",
       "        0.89807718, 0.91327148, 0.9103133 , 0.90990991, 0.85504908,\n",
       "        0.8416028 , 0.84913271, 0.85504908, 0.85908296, 0.8567971 ,\n",
       "        0.85760387, 0.71117386, 0.71440097, 0.72018287, 0.72327551,\n",
       "        0.72529246, 0.72381337, 0.72502353, 0.45515665, 0.48917574,\n",
       "        0.51620277, 0.52185021, 0.52494285, 0.52158128, 0.52574963,\n",
       "        0.34462821, 0.39881673, 0.4310878 , 0.44762673, 0.46214872,\n",
       "        0.46806508, 0.47209896, 0.34274573, 0.40500202, 0.43162566,\n",
       "        0.44278607, 0.45986285, 0.46846847, 0.47169558, 0.79696114,\n",
       "        0.79884362, 0.81551701, 0.80986957, 0.81457577, 0.80892833,\n",
       "        0.81000403, 0.84577114, 0.84886379, 0.84711577, 0.85020842,\n",
       "        0.86701627, 0.8683609 , 0.86405809, 0.855318  , 0.86056205,\n",
       "        0.86069652, 0.87669759, 0.87817668, 0.87575635, 0.87064677,\n",
       "        0.91058222, 0.87347049, 0.88785801, 0.89323652, 0.89458115,\n",
       "        0.88974049, 0.87226032, 0.74586527, 0.86419255, 0.87481511,\n",
       "        0.87427726, 0.88906817, 0.88005916, 0.8867823 ]),\n",
       " 'mean_test_recall': array([0.9570566 , 0.94941795, 0.96990889, 0.91752506, 0.91803601,\n",
       "        0.91862767, 0.95070899, 0.89227434, 0.89015016, 0.89039197,\n",
       "        0.89286598, 0.90714523, 0.90738719, 0.90609644, 0.84381701,\n",
       "        0.84922174, 0.84664047, 0.84825381, 0.8507009 , 0.8510235 ,\n",
       "        0.85148072, 0.70371411, 0.7095225 , 0.71162014, 0.71594935,\n",
       "        0.71689056, 0.71643345, 0.71584187, 0.43991192, 0.48127058,\n",
       "        0.49939529, 0.51348607, 0.51539538, 0.51682052, 0.51708945,\n",
       "        0.33993074, 0.39597156, 0.42805274, 0.44757569, 0.46010716,\n",
       "        0.46430217, 0.468282  , 0.34041481, 0.39771959, 0.42729993,\n",
       "        0.44746816, 0.46067192, 0.46610382, 0.46871229, 0.78901217,\n",
       "        0.79707959, 0.79853216, 0.8051739 , 0.8042868 , 0.80447502,\n",
       "        0.80563132, 0.83448589, 0.84855035, 0.85301372, 0.85285218,\n",
       "        0.86030097, 0.86140357, 0.85841861, 0.84408572, 0.85217965,\n",
       "        0.86694281, 0.87385404, 0.8744725 , 0.87135303, 0.86670098,\n",
       "        0.90693001, 0.88576635, 0.88579362, 0.89552805, 0.89219354,\n",
       "        0.88461024, 0.87342327, 0.74450756, 0.8592253 , 0.86944384,\n",
       "        0.86947072, 0.87952805, 0.87683886, 0.87807593]),\n",
       " 'std_test_recall': array([0.04300016, 0.00278086, 0.00153288, 0.00206701, 0.00230603,\n",
       "        0.00331751, 0.00889171, 0.00323777, 0.0058052 , 0.00273212,\n",
       "        0.00350694, 0.00426795, 0.00328917, 0.0036105 , 0.01069472,\n",
       "        0.00740166, 0.00842475, 0.00602806, 0.0063125 , 0.0050242 ,\n",
       "        0.00596434, 0.00946788, 0.00558529, 0.00799539, 0.00595303,\n",
       "        0.00486268, 0.00514844, 0.00610023, 0.00960785, 0.00496823,\n",
       "        0.00920288, 0.00523542, 0.00520589, 0.00364353, 0.00470072,\n",
       "        0.00454365, 0.00377421, 0.00271838, 0.0027575 , 0.00337454,\n",
       "        0.00386581, 0.00356982, 0.00546192, 0.00464489, 0.00324078,\n",
       "        0.00274083, 0.00441934, 0.00386315, 0.00370015, 0.01121042,\n",
       "        0.00328948, 0.00966529, 0.00464525, 0.00754393, 0.00722334,\n",
       "        0.00623333, 0.01640988, 0.0187969 , 0.01177716, 0.00771077,\n",
       "        0.00716932, 0.00704012, 0.00659207, 0.01580398, 0.00704127,\n",
       "        0.00436985, 0.0041589 , 0.0048286 , 0.00645209, 0.00834176,\n",
       "        0.00393094, 0.00919184, 0.00304266, 0.00174437, 0.00505218,\n",
       "        0.00908761, 0.00783005, 0.00331478, 0.00464226, 0.00367659,\n",
       "        0.00339298, 0.00525541, 0.00274622, 0.00497129]),\n",
       " 'rank_test_recall': array([ 2,  4,  1,  7,  6,  5,  3, 14, 17, 16, 13,  9,  8, 11, 47, 42, 45,\n",
       "        44, 41, 40, 39, 63, 62, 61, 59, 57, 58, 60, 78, 69, 68, 67, 66, 65,\n",
       "        64, 84, 82, 79, 76, 75, 73, 71, 83, 81, 80, 77, 74, 72, 70, 55, 54,\n",
       "        53, 50, 52, 51, 49, 48, 43, 36, 37, 33, 32, 35, 46, 38, 30, 25, 24,\n",
       "        27, 31, 10, 19, 18, 12, 15, 20, 26, 56, 34, 29, 28, 21, 23, 22]),\n",
       " 'split0_test_precision': array([0.24249284, 0.25650531, 0.24904294, 0.27587323, 0.27559724,\n",
       "        0.27571983, 0.26549743, 0.28109231, 0.28229994, 0.28188177,\n",
       "        0.2820731 , 0.27961868, 0.2789792 , 0.27939953, 0.29820027,\n",
       "        0.29595606, 0.29680999, 0.29690467, 0.29588951, 0.2944771 ,\n",
       "        0.29501754, 0.31264786, 0.31238811, 0.31179118, 0.31189558,\n",
       "        0.31230507, 0.3116967 , 0.3118387 , 0.31127379, 0.31274336,\n",
       "        0.31488566, 0.31737721, 0.31701245, 0.31995023, 0.31873276,\n",
       "        0.31104294, 0.31778984, 0.31572178, 0.31678262, 0.31763611,\n",
       "        0.31740614, 0.3206422 , 0.31104294, 0.31808   , 0.31735455,\n",
       "        0.3185171 , 0.31792339, 0.32026627, 0.3193285 , 0.3010099 ,\n",
       "        0.29988947, 0.30488056, 0.30372796, 0.30411795, 0.30438093,\n",
       "        0.30386292, 0.29861742, 0.29758185, 0.29702035, 0.29607604,\n",
       "        0.29265506, 0.29274327, 0.29385439, 0.28596444, 0.29196305,\n",
       "        0.28973807, 0.28875882, 0.28788955, 0.28821408, 0.28925064,\n",
       "        0.27755639, 0.28055894, 0.28236256, 0.2802478 , 0.28073727,\n",
       "        0.28121166, 0.28361953, 0.28403001, 0.28392139, 0.28346318,\n",
       "        0.2833128 , 0.28282784, 0.28271272, 0.2827289 ]),\n",
       " 'split1_test_precision': array([0.25552138, 0.25510982, 0.24813716, 0.26938161, 0.27395053,\n",
       "        0.27442743, 0.26386953, 0.27808906, 0.2789758 , 0.27978263,\n",
       "        0.27927737, 0.27819486, 0.27814405, 0.27826015, 0.29550259,\n",
       "        0.29000275, 0.29363363, 0.2935216 , 0.29331151, 0.29438572,\n",
       "        0.29386912, 0.3056766 , 0.30710421, 0.30894022, 0.3104834 ,\n",
       "        0.30965626, 0.30902798, 0.30864053, 0.31282969, 0.31264833,\n",
       "        0.31366111, 0.31696654, 0.31786523, 0.31657495, 0.31848719,\n",
       "        0.31319235, 0.31420648, 0.3155038 , 0.31678308, 0.31596091,\n",
       "        0.31654212, 0.31605933, 0.31319235, 0.31420648, 0.31505204,\n",
       "        0.31678196, 0.3152659 , 0.31682441, 0.31636197, 0.29681561,\n",
       "        0.29634281, 0.29766636, 0.29837615, 0.29841286, 0.29858783,\n",
       "        0.29917389, 0.29756389, 0.2935705 , 0.29305732, 0.29346399,\n",
       "        0.29300488, 0.29278695, 0.29347978, 0.29574789, 0.29145729,\n",
       "        0.28773078, 0.28707241, 0.28724587, 0.28811364, 0.2901361 ,\n",
       "        0.27348925, 0.28086751, 0.27995564, 0.27944447, 0.28026126,\n",
       "        0.28484477, 0.28465108, 0.27932052, 0.28240638, 0.28159461,\n",
       "        0.28153005, 0.2812473 , 0.28130954, 0.28128518]),\n",
       " 'split2_test_precision': array([0.24424458, 0.25893183, 0.25125209, 0.27903561, 0.27868719,\n",
       "        0.27890962, 0.26845587, 0.28523189, 0.28469842, 0.28502789,\n",
       "        0.28496766, 0.28255241, 0.28269408, 0.28298807, 0.29981132,\n",
       "        0.30090498, 0.30178047, 0.30037411, 0.30012735, 0.30036405,\n",
       "        0.29998116, 0.31377386, 0.31463861, 0.31652246, 0.31641386,\n",
       "        0.31711519, 0.31777091, 0.3171212 , 0.31821774, 0.32091097,\n",
       "        0.31863295, 0.32450947, 0.32445008, 0.3264319 , 0.32385882,\n",
       "        0.31577004, 0.31762653, 0.32139243, 0.32155408, 0.32424705,\n",
       "        0.32355724, 0.32376126, 0.31566792, 0.31887838, 0.31963516,\n",
       "        0.32470956, 0.32469628, 0.3236683 , 0.3242888 , 0.30468425,\n",
       "        0.30703713, 0.30762453, 0.30729702, 0.30830284, 0.30833633,\n",
       "        0.3079477 , 0.29896761, 0.29760369, 0.29861532, 0.29888608,\n",
       "        0.29729854, 0.29700009, 0.29769053, 0.30371094, 0.29680896,\n",
       "        0.29365726, 0.29118945, 0.29151292, 0.29178357, 0.29273093,\n",
       "        0.28243063, 0.29024853, 0.2874288 , 0.28482391, 0.28473435,\n",
       "        0.28606526, 0.28859386, 0.28597262, 0.28775913, 0.28701443,\n",
       "        0.28699155, 0.28633975, 0.28640926, 0.28645947]),\n",
       " 'split3_test_precision': array([0.24167055, 0.25482835, 0.24808413, 0.2755238 , 0.27518724,\n",
       "        0.27203202, 0.2540972 , 0.28064843, 0.27989245, 0.28124073,\n",
       "        0.28133339, 0.27897368, 0.27885408, 0.27920735, 0.29610781,\n",
       "        0.29408505, 0.29623232, 0.29596559, 0.29702738, 0.29590409,\n",
       "        0.29579957, 0.30870289, 0.31054114, 0.31103307, 0.31008841,\n",
       "        0.31110333, 0.31057961, 0.31119511, 0.31045376, 0.31655245,\n",
       "        0.31588817, 0.31614088, 0.3165092 , 0.3168799 , 0.31786275,\n",
       "        0.308933  , 0.31500486, 0.31298469, 0.31338524, 0.31576548,\n",
       "        0.31622307, 0.31734251, 0.308933  , 0.31500486, 0.31328894,\n",
       "        0.31462888, 0.31758172, 0.31764706, 0.31866245, 0.29880004,\n",
       "        0.29914098, 0.30163251, 0.3018439 , 0.30168384, 0.30167794,\n",
       "        0.3023092 , 0.30010625, 0.29461847, 0.2921718 , 0.29411226,\n",
       "        0.29628942, 0.29568505, 0.29646162, 0.29201064, 0.29482166,\n",
       "        0.29157648, 0.28826079, 0.28946781, 0.29237501, 0.2941014 ,\n",
       "        0.27851809, 0.28341014, 0.28341558, 0.28232558, 0.28604975,\n",
       "        0.28928014, 0.29237385, 0.28137364, 0.28366065, 0.28291023,\n",
       "        0.28276073, 0.28265941, 0.2826482 , 0.28270371]),\n",
       " 'split4_test_precision': array([0.24154862, 0.25475367, 0.24785179, 0.27502312, 0.27441152,\n",
       "        0.27504524, 0.25961433, 0.28189974, 0.27884374, 0.28009631,\n",
       "        0.27995976, 0.27739432, 0.27800591, 0.27804257, 0.29096317,\n",
       "        0.29652265, 0.29608965, 0.2946983 , 0.2918551 , 0.29331615,\n",
       "        0.29333579, 0.30547534, 0.31077445, 0.31067285, 0.31049411,\n",
       "        0.31114444, 0.31063535, 0.31158625, 0.31579438, 0.31703704,\n",
       "        0.32053102, 0.31947646, 0.32097344, 0.31954856, 0.32007204,\n",
       "        0.30946631, 0.3142282 , 0.31742574, 0.31753148, 0.31862427,\n",
       "        0.3200331 , 0.31866037, 0.30919457, 0.31665265, 0.31719368,\n",
       "        0.31572387, 0.31748979, 0.31948647, 0.3188801 , 0.29807886,\n",
       "        0.29946066, 0.29941746, 0.299339  , 0.30033216, 0.30004988,\n",
       "        0.29997012, 0.29513889, 0.29624589, 0.29726797, 0.29579903,\n",
       "        0.2928646 , 0.29249513, 0.29374657, 0.29056276, 0.29308055,\n",
       "        0.29181673, 0.28631653, 0.28937924, 0.2899951 , 0.29146973,\n",
       "        0.27752961, 0.2860162 , 0.28423228, 0.28340444, 0.28187095,\n",
       "        0.28355331, 0.28847779, 0.28115971, 0.28307787, 0.28250109,\n",
       "        0.28246231, 0.28174536, 0.28206344, 0.28154884]),\n",
       " 'mean_test_precision': array([0.24509559, 0.2560258 , 0.24887362, 0.27496748, 0.27556674,\n",
       "        0.27522683, 0.26230687, 0.28139229, 0.28094207, 0.28160586,\n",
       "        0.28152226, 0.27934679, 0.27933546, 0.27957953, 0.29611703,\n",
       "        0.2954943 , 0.29690921, 0.29629286, 0.29564217, 0.29568942,\n",
       "        0.29560064, 0.30925531, 0.31108931, 0.31179196, 0.31187507,\n",
       "        0.31226486, 0.31194211, 0.31207636, 0.31371387, 0.31597843,\n",
       "        0.31671978, 0.31889411, 0.31936208, 0.31987711, 0.31980271,\n",
       "        0.31168093, 0.31577118, 0.31660569, 0.3172073 , 0.31844676,\n",
       "        0.31875233, 0.31929313, 0.31160616, 0.31656448, 0.31650487,\n",
       "        0.31807227, 0.31859141, 0.3195785 , 0.31950437, 0.29987773,\n",
       "        0.30037421, 0.30224428, 0.30211681, 0.30256993, 0.30260658,\n",
       "        0.30265277, 0.29807881, 0.29592408, 0.29562655, 0.29566748,\n",
       "        0.2944225 , 0.2941421 , 0.29504658, 0.29359933, 0.2936263 ,\n",
       "        0.29090386, 0.2883196 , 0.28909908, 0.29009628, 0.29153776,\n",
       "        0.27790479, 0.28422026, 0.28347897, 0.28204924, 0.28273072,\n",
       "        0.28499103, 0.28754322, 0.2823713 , 0.28416508, 0.28349671,\n",
       "        0.28341149, 0.28296393, 0.28302863, 0.28294522]),\n",
       " 'std_test_precision': array([0.00530108, 0.00158532, 0.00125663, 0.00312681, 0.00166306,\n",
       "        0.00222193, 0.0050016 , 0.00230455, 0.00225055, 0.00187204,\n",
       "        0.00198448, 0.00176795, 0.00172198, 0.00178281, 0.00299759,\n",
       "        0.00354088, 0.00266827, 0.00233925, 0.00289381, 0.0024779 ,\n",
       "        0.00235356, 0.00344463, 0.00247245, 0.00254316, 0.00235104,\n",
       "        0.00256658, 0.00303616, 0.00276871, 0.0028975 , 0.00307686,\n",
       "        0.00251383, 0.00301557, 0.00297941, 0.00354869, 0.00215237,\n",
       "        0.00252459, 0.00160833, 0.00278182, 0.00260646, 0.00308871,\n",
       "        0.00275034, 0.00269989, 0.00254136, 0.00176925, 0.00216555,\n",
       "        0.00355776, 0.00319399, 0.00238845, 0.00260365, 0.00276255,\n",
       "        0.00355632, 0.00361164, 0.00320043, 0.00341575, 0.00345044,\n",
       "        0.00312787, 0.00167922, 0.00160728, 0.00253401, 0.00188773,\n",
       "        0.00196558, 0.00184686, 0.0017064 , 0.00594806, 0.00196606,\n",
       "        0.00201467, 0.00167333, 0.00147908, 0.00176201, 0.00174334,\n",
       "        0.00285021, 0.00360189, 0.00244266, 0.00198201, 0.0022734 ,\n",
       "        0.00268039, 0.0031328 , 0.00234484, 0.00187115, 0.00186165,\n",
       "        0.001881  , 0.00178545, 0.00176409, 0.0018526 ]),\n",
       " 'rank_test_precision': array([84, 82, 83, 80, 78, 79, 81, 72, 73, 70, 71, 75, 76, 74, 39, 46, 37,\n",
       "        38, 43, 41, 45, 28, 27, 24, 23, 20, 22, 21, 19, 17, 13,  7,  5,  1,\n",
       "         2, 25, 18, 14, 12, 10,  8,  6, 26, 15, 16, 11,  9,  3,  4, 35, 34,\n",
       "        32, 33, 31, 30, 29, 36, 40, 44, 42, 48, 49, 47, 51, 50, 53, 56, 55,\n",
       "        54, 52, 77, 59, 62, 69, 67, 58, 57, 68, 60, 61, 63, 65, 64, 66])}"
      ]
     },
     "execution_count": 26,
     "metadata": {},
     "output_type": "execute_result"
    }
   ],
   "source": [
    "grid_search_rf.cv_results_"
   ]
  },
  {
   "cell_type": "markdown",
   "metadata": {},
   "source": [
    "This represents a good improvement over the random parameters. I will proceed with a finer grid search focussing on the max_depth and n_estimators parameters."
   ]
  },
  {
   "cell_type": "markdown",
   "metadata": {},
   "source": [
    "#### Finer grid search"
   ]
  },
  {
   "cell_type": "code",
   "execution_count": 29,
   "metadata": {
    "scrolled": true
   },
   "outputs": [
    {
     "name": "stdout",
     "output_type": "stream",
     "text": [
      "{'best_index': 4, 'best_params': {'clf__max_depth': 16, 'clf__n_estimators': 200}, 'roc_auc': 0.8402495230017726, 'recall': 0.7158418679622823, 'precision': 0.31207635854509463}\n"
     ]
    }
   ],
   "source": [
    "rf_param_grid = [\n",
    "    {'clf__n_estimators' : [200],\n",
    "     'clf__max_depth' : np.arange(8,26,2)\n",
    "    }]\n",
    "\n",
    "grid_search_rf = GridSearchCV(rf_model, rf_param_grid, scoring=metrics, refit='roc_auc')\n",
    "grid_search_rf.fit(X_train, y_train)\n",
    "\n",
    "best_estimator_rf = grid_search_rf.best_estimator_\n",
    "dump(best_estimator_rf, 'models/rf_model.joblib')\n",
    "\n",
    "best_rf = grid_best(metrics, grid_search_rf)\n",
    "print(best_rf)"
   ]
  },
  {
   "cell_type": "markdown",
   "metadata": {},
   "source": [
    "The finer grid search results in the same hyperparameters as the initial search. It is likely that increasing the number of predictors would improve performance. Unfortunately, this isn't feasible due to the computational complexity."
   ]
  },
  {
   "cell_type": "markdown",
   "metadata": {},
   "source": [
    "### KNN classifier"
   ]
  },
  {
   "cell_type": "code",
   "execution_count": 30,
   "metadata": {},
   "outputs": [],
   "source": [
    "knn_model = make_pipe(KNeighborsClassifier())"
   ]
  },
  {
   "cell_type": "code",
   "execution_count": 32,
   "metadata": {},
   "outputs": [
    {
     "data": {
      "text/plain": [
       "GridSearchCV(estimator=Pipeline(memory='pipe_cache',\n",
       "                                steps=[('sampling',\n",
       "                                        SMOTENC(categorical_features=[5, 0, 6],\n",
       "                                                random_state=42)),\n",
       "                                       ('transfomer',\n",
       "                                        ColumnTransformer(remainder='passthrough',\n",
       "                                                          transformers=[('ordinal',\n",
       "                                                                         OrdinalEncoder(categories=[['< '\n",
       "                                                                                                     '1 '\n",
       "                                                                                                     'Year',\n",
       "                                                                                                     '1-2 '\n",
       "                                                                                                     'Year',\n",
       "                                                                                                     '> '\n",
       "                                                                                                     '2 '\n",
       "                                                                                                     'Years']]),\n",
       "                                                                         [5]),\n",
       "                                                                        ('one_hot',\n",
       "                                                                         OneHotEncoder(),\n",
       "                                                                         [0,\n",
       "                                                                          6]),\n",
       "                                                                        ('scale',\n",
       "                                                                         MinMaxScaler(),\n",
       "                                                                         [1, 3,\n",
       "                                                                          8,\n",
       "                                                                          9]),\n",
       "                                                                        ('to_drop',\n",
       "                                                                         'drop',\n",
       "                                                                         [2])])),\n",
       "                                       ('clf', KNeighborsClassifier())]),\n",
       "             param_grid=[{'clf__n_neighbors': [2, 4, 8, 16], 'clf__p': [1, 2],\n",
       "                          'clf__weights': ['uniform', 'distance']}],\n",
       "             refit='roc_auc', scoring=['roc_auc', 'recall', 'precision'])"
      ]
     },
     "execution_count": 32,
     "metadata": {},
     "output_type": "execute_result"
    }
   ],
   "source": [
    "knn_param_grid = [\n",
    "    {'clf__n_neighbors':[2, 4, 8, 16],\n",
    "    'clf__weights':['uniform', 'distance'],\n",
    "     'clf__p':[1, 2]\n",
    "    }]\n",
    "\n",
    "grid_search_knn = GridSearchCV(knn_model, knn_param_grid, scoring=metrics, refit='roc_auc')\n",
    "grid_search_knn.fit(X_train, y_train)"
   ]
  },
  {
   "cell_type": "code",
   "execution_count": 33,
   "metadata": {},
   "outputs": [
    {
     "name": "stdout",
     "output_type": "stream",
     "text": [
      "{'best_index': 13, 'best_params': {'clf__n_neighbors': 16, 'clf__p': 1, 'clf__weights': 'distance'}, 'roc_auc': 0.7820862808132898, 'recall': 0.7798423599682163, 'precision': 0.24355300560257334}\n"
     ]
    }
   ],
   "source": [
    "best_estimator_knn = grid_search_knn.best_estimator_\n",
    "dump(best_estimator_knn, 'models/knn_model.joblib')\n",
    "\n",
    "best_knn = grid_best(metrics, grid_search_knn)\n",
    "print(best_knn)"
   ]
  },
  {
   "cell_type": "markdown",
   "metadata": {},
   "source": [
    "KNN does not perform as well as Random Forest or even Linear SVC. Still, it might be a good addition to a blender or voting classifier, since it is not a type of linear model."
   ]
  },
  {
   "cell_type": "markdown",
   "metadata": {},
   "source": [
    "### Naive Bayes classifier"
   ]
  },
  {
   "cell_type": "code",
   "execution_count": 34,
   "metadata": {},
   "outputs": [
    {
     "name": "stdout",
     "output_type": "stream",
     "text": [
      "{'roc_auc': 0.8126037580982018, 'recall': 0.9783257827704859, 'precision': 0.24156557326077682}\n"
     ]
    }
   ],
   "source": [
    "nb_model = make_pipe(GaussianNB())\n",
    "nb_scores = cross_validate(nb_model, X_train, y_train, scoring=metrics)\n",
    "\n",
    "nb_avg_scores = avg_scores(metrics, nb_scores)\n",
    "print(nb_avg_scores)"
   ]
  },
  {
   "cell_type": "code",
   "execution_count": 35,
   "metadata": {},
   "outputs": [
    {
     "data": {
      "text/plain": [
       "['models/nb_model.joblib']"
      ]
     },
     "execution_count": 35,
     "metadata": {},
     "output_type": "execute_result"
    }
   ],
   "source": [
    "# Re-fitting on entire training data and saving Saving model after refitting on entire dataset.\n",
    "\n",
    "nb_model_re = make_pipe(GaussianNB())\n",
    "nb_model_re.fit(X_train, y_train)\n",
    "\n",
    "dump(nb_model_re, 'models/nb_model.joblib')"
   ]
  },
  {
   "cell_type": "markdown",
   "metadata": {},
   "source": [
    "Naive Bayes peforms better than KNN, and comes very close to Linear SVC and Random Forest KNN."
   ]
  },
  {
   "cell_type": "markdown",
   "metadata": {},
   "source": [
    "## Ensemble methods & evaluation on validation set\n",
    "\n",
    "Next, I will attempt to improve performance by combining different models through ensemble methods, specifically a Voting Classifier and a Stacking Classifier. Given their favourable performance, I will use combinations consisting of:<br>\n",
    "* Linear SVC, \n",
    "* Random Forest Classifier, \n",
    "* KNN Classifier,\n",
    "* Naive Bayes Classifier.<br>\n",
    "\n",
    "Logistic regression is *not* included because it did not perform well in cross validation, and because it is a linear model just like linear SVC. This means it's likely that errors in logistic regression and linear SVC are more correlated, which would decrease the overall performance of the ensemble classifiers."
   ]
  },
  {
   "cell_type": "markdown",
   "metadata": {},
   "source": [
    "### Evaluating individual models on validation set.\n",
    "\n",
    "To determine whether an ensemble performs better than any model on its own, we need to first obtain the peformance of each model on the validation set."
   ]
  },
  {
   "cell_type": "code",
   "execution_count": 13,
   "metadata": {},
   "outputs": [],
   "source": [
    "# Loading saved classifiers.\n",
    "\n",
    "svc_clf = load('models/svc_model.joblib')\n",
    "rf_clf = load('models/rf_model.joblib')\n",
    "knn_clf = load('models/knn_model.joblib')\n",
    "nb_clf = load('models/nb_model.joblib')\n",
    "\n",
    "clfs = [svc_clf, rf_clf, knn_clf, nb_clf]\n",
    "clf_labels = ['svc', 'rf', 'knn', 'nb']\n",
    "\n",
    "# Evaluating individual classifiers for comparison with ensemble classifiers.\n",
    "\n",
    "clf_performance = []\n",
    "\n",
    "for n in range(len(clfs)):\n",
    "    c = clfs[n]\n",
    "    pred = c.predict(X_val)\n",
    "    \n",
    "    metrics_dict = {'roc_auc' : roc_auc_score(y_val, pred),\n",
    "                    'recall' : recall_score(y_val, pred),\n",
    "                     'precision' : precision_score(y_val, pred)}\n",
    "    \n",
    "    clf_performance.append(metrics_dict)"
   ]
  },
  {
   "cell_type": "code",
   "execution_count": 14,
   "metadata": {},
   "outputs": [
    {
     "name": "stdout",
     "output_type": "stream",
     "text": [
      "      roc_auc    recall  precision\n",
      "svc  0.784292  0.973643   0.255504\n",
      "rf   0.753456  0.723091   0.323211\n",
      "knn  0.724881  0.782001   0.251528\n",
      "nb   0.776692  0.977948   0.247482\n"
     ]
    }
   ],
   "source": [
    "clf_performance_df = pd.DataFrame(clf_performance, index=clf_labels)\n",
    "print(clf_performance_df)"
   ]
  },
  {
   "cell_type": "markdown",
   "metadata": {},
   "source": [
    "### Voting Classifier (using mlxtend)\n",
    "During cross-validation, the GridSearchCV refit the best estimator on the entire dataset, and I subsequently saved the model using joblib. Therefore, there is no need to re-fit the models prior to evaluation on the validation set. The sklearn VotingClassifier class does not support using pre-fit models, which is why I will use the corresponding class in <b>mlxtend</b>, instead.\n",
    "\n",
    "Since not all of the classifiers used implement a predict_proba() method, I will use hard voting."
   ]
  },
  {
   "cell_type": "code",
   "execution_count": 15,
   "metadata": {},
   "outputs": [],
   "source": [
    "vote_clf = EnsembleVoteClassifier(clfs=clfs, fit_base_estimators=False, voting='hard')\n",
    "vote_clf.fit(X_train, y_train)\n",
    "\n",
    "# Making predictions on validation set\n",
    "\n",
    "vote_pred = vote_clf.predict(X_val)\n",
    "\n",
    "vote_dict = {'roc_auc' : roc_auc_score(y_val, vote_pred),\n",
    "             'recall' : recall_score(y_val, vote_pred),\n",
    "             'precision' : precision_score(y_val, vote_pred)}"
   ]
  },
  {
   "cell_type": "code",
   "execution_count": 16,
   "metadata": {},
   "outputs": [
    {
     "name": "stdout",
     "output_type": "stream",
     "text": [
      "         roc_auc    recall  precision\n",
      "svc     0.784292  0.973643   0.255504\n",
      "rf      0.753456  0.723091   0.323211\n",
      "knn     0.724881  0.782001   0.251528\n",
      "nb      0.776692  0.977948   0.247482\n",
      "voting  0.781557  0.898036   0.276844\n"
     ]
    }
   ],
   "source": [
    "clf_performance_df = clf_performance_df.append(vote_dict, ignore_index = True)\n",
    "clf_performance_df.index = ['svc', 'rf', 'knn', 'nb', 'voting']\n",
    "print(clf_performance_df)"
   ]
  },
  {
   "cell_type": "markdown",
   "metadata": {},
   "source": [
    "Surprisingly, the performance of the voting classifier is lower than that of the strongest classifier (SVC). Let's move on to a stacking classifier."
   ]
  },
  {
   "cell_type": "markdown",
   "metadata": {},
   "source": [
    "### Stacking Classifier\n",
    "\n",
    "Since stacking classifiers are not defined in sklearn, there are several steps to take:\n",
    "\n",
    "1. Layer one - base estimators\n",
    "    * Further split training set into training and holdout set (80-20 split)\n",
    "    * Train base estimators on new, reduced training set,\n",
    "    * Make predictions on **holdout set** with all the base estimators of the first layer.<br><br>\n",
    "2. Layer two - blender\n",
    "    * Evaluate stacking classifier on holdout set using cross_validate() (for comparison with other models). \n",
    "        * Uses **first layer outputs on holdout set** as features.\n",
    "    * Training second layer on entire first layer predictions.<br><br>    \n",
    "3. Make stacked predictions on validation set\n",
    "    * Make predictions with first layer,\n",
    "    * Pass to blender.       "
   ]
  },
  {
   "cell_type": "markdown",
   "metadata": {},
   "source": [
    "#### Step 1a: Creating holdout set"
   ]
  },
  {
   "cell_type": "code",
   "execution_count": 17,
   "metadata": {},
   "outputs": [],
   "source": [
    "y = np.array(sell_data_train[['Response']])\n",
    "X = sell_data_train.drop('Response', axis=1)\n",
    "\n",
    "X_train2, X_h, y_train2, y_h = train_test_split(X_train, y_train, test_size=0.2, random_state=42)\n",
    "\n",
    "y_train2 = y_train2.ravel()\n",
    "y_h = y_h.ravel()"
   ]
  },
  {
   "cell_type": "code",
   "execution_count": 18,
   "metadata": {},
   "outputs": [
    {
     "name": "stdout",
     "output_type": "stream",
     "text": [
      "(60978, 10)\n"
     ]
    },
    {
     "data": {
      "text/html": [
       "<div>\n",
       "<style scoped>\n",
       "    .dataframe tbody tr th:only-of-type {\n",
       "        vertical-align: middle;\n",
       "    }\n",
       "\n",
       "    .dataframe tbody tr th {\n",
       "        vertical-align: top;\n",
       "    }\n",
       "\n",
       "    .dataframe thead th {\n",
       "        text-align: right;\n",
       "    }\n",
       "</style>\n",
       "<table border=\"1\" class=\"dataframe\">\n",
       "  <thead>\n",
       "    <tr style=\"text-align: right;\">\n",
       "      <th></th>\n",
       "      <th>Gender</th>\n",
       "      <th>Age</th>\n",
       "      <th>Driving_License</th>\n",
       "      <th>Region_Code</th>\n",
       "      <th>Previously_Insured</th>\n",
       "      <th>Vehicle_Age</th>\n",
       "      <th>Vehicle_Damage</th>\n",
       "      <th>Annual_Premium</th>\n",
       "      <th>Policy_Sales_Channel</th>\n",
       "      <th>Vintage</th>\n",
       "    </tr>\n",
       "    <tr>\n",
       "      <th>id</th>\n",
       "      <th></th>\n",
       "      <th></th>\n",
       "      <th></th>\n",
       "      <th></th>\n",
       "      <th></th>\n",
       "      <th></th>\n",
       "      <th></th>\n",
       "      <th></th>\n",
       "      <th></th>\n",
       "      <th></th>\n",
       "    </tr>\n",
       "  </thead>\n",
       "  <tbody>\n",
       "    <tr>\n",
       "      <th>147167</th>\n",
       "      <td>Female</td>\n",
       "      <td>25</td>\n",
       "      <td>1</td>\n",
       "      <td>35.0</td>\n",
       "      <td>1</td>\n",
       "      <td>&lt; 1 Year</td>\n",
       "      <td>No</td>\n",
       "      <td>31888.0</td>\n",
       "      <td>160.0</td>\n",
       "      <td>269</td>\n",
       "    </tr>\n",
       "    <tr>\n",
       "      <th>373211</th>\n",
       "      <td>Male</td>\n",
       "      <td>60</td>\n",
       "      <td>1</td>\n",
       "      <td>50.0</td>\n",
       "      <td>0</td>\n",
       "      <td>&gt; 2 Years</td>\n",
       "      <td>Yes</td>\n",
       "      <td>31875.0</td>\n",
       "      <td>124.0</td>\n",
       "      <td>45</td>\n",
       "    </tr>\n",
       "    <tr>\n",
       "      <th>210821</th>\n",
       "      <td>Female</td>\n",
       "      <td>22</td>\n",
       "      <td>1</td>\n",
       "      <td>15.0</td>\n",
       "      <td>1</td>\n",
       "      <td>&lt; 1 Year</td>\n",
       "      <td>No</td>\n",
       "      <td>37338.0</td>\n",
       "      <td>152.0</td>\n",
       "      <td>270</td>\n",
       "    </tr>\n",
       "    <tr>\n",
       "      <th>353012</th>\n",
       "      <td>Male</td>\n",
       "      <td>69</td>\n",
       "      <td>1</td>\n",
       "      <td>48.0</td>\n",
       "      <td>0</td>\n",
       "      <td>1-2 Year</td>\n",
       "      <td>Yes</td>\n",
       "      <td>2630.0</td>\n",
       "      <td>26.0</td>\n",
       "      <td>148</td>\n",
       "    </tr>\n",
       "    <tr>\n",
       "      <th>228807</th>\n",
       "      <td>Male</td>\n",
       "      <td>66</td>\n",
       "      <td>1</td>\n",
       "      <td>28.0</td>\n",
       "      <td>0</td>\n",
       "      <td>1-2 Year</td>\n",
       "      <td>Yes</td>\n",
       "      <td>39486.0</td>\n",
       "      <td>55.0</td>\n",
       "      <td>248</td>\n",
       "    </tr>\n",
       "  </tbody>\n",
       "</table>\n",
       "</div>"
      ],
      "text/plain": [
       "        Gender  Age  Driving_License  Region_Code  Previously_Insured  \\\n",
       "id                                                                      \n",
       "147167  Female   25                1         35.0                   1   \n",
       "373211    Male   60                1         50.0                   0   \n",
       "210821  Female   22                1         15.0                   1   \n",
       "353012    Male   69                1         48.0                   0   \n",
       "228807    Male   66                1         28.0                   0   \n",
       "\n",
       "       Vehicle_Age Vehicle_Damage  Annual_Premium  Policy_Sales_Channel  \\\n",
       "id                                                                        \n",
       "147167    < 1 Year             No         31888.0                 160.0   \n",
       "373211   > 2 Years            Yes         31875.0                 124.0   \n",
       "210821    < 1 Year             No         37338.0                 152.0   \n",
       "353012    1-2 Year            Yes          2630.0                  26.0   \n",
       "228807    1-2 Year            Yes         39486.0                  55.0   \n",
       "\n",
       "        Vintage  \n",
       "id               \n",
       "147167      269  \n",
       "373211       45  \n",
       "210821      270  \n",
       "353012      148  \n",
       "228807      248  "
      ]
     },
     "execution_count": 18,
     "metadata": {},
     "output_type": "execute_result"
    }
   ],
   "source": [
    "print(X_h.shape)\n",
    "X_h.head()"
   ]
  },
  {
   "cell_type": "code",
   "execution_count": 19,
   "metadata": {
    "scrolled": true
   },
   "outputs": [
    {
     "data": {
      "text/plain": [
       "(60978,)"
      ]
     },
     "execution_count": 19,
     "metadata": {},
     "output_type": "execute_result"
    }
   ],
   "source": [
    "y_h.shape"
   ]
  },
  {
   "cell_type": "markdown",
   "metadata": {},
   "source": [
    "#### Step 1b: Training first layer"
   ]
  },
  {
   "cell_type": "code",
   "execution_count": 20,
   "metadata": {},
   "outputs": [],
   "source": [
    "class FirstLayer:\n",
    "    \"\"\"First layer of a stacking classifier or regressor.\n",
    "    Args:\n",
    "        models (list): Estimators to be used in the first layer. Must have been trained and must\n",
    "            implement .predict() method. Do not pre-train on entire training data. Sub-divide instead.\n",
    "    Attributes:\n",
    "        models (list): Estimators included in first layer.\n",
    "    \"\"\"\n",
    "    def __init__(self, models):\n",
    "        self.models = models\n",
    "     \n",
    "    def predict(self, X):\n",
    "        \"\"\"Makes first-layer predictions. \n",
    "        Args:\n",
    "            X (array-like): Training-data.\n",
    "        Returns:\n",
    "            pred (dict): Predictions.\n",
    "        \"\"\"\n",
    "        pred = []\n",
    "        for i in range(len(self.models)):\n",
    "            model = self.models[i]\n",
    "            y_hat_i = model.predict(X)\n",
    "            pred.append(y_hat_i)\n",
    "        return np.column_stack(pred)"
   ]
  },
  {
   "cell_type": "code",
   "execution_count": 21,
   "metadata": {},
   "outputs": [],
   "source": [
    "# Re-training base estimators on smaller training set and saving for future use.\n",
    "\n",
    "clf_filenames = ['svc_stacking.joblib', 'rf_stacking.joblib', 'knn_stacking.joblib', 'nb_stacking.joblib']\n",
    "\n",
    "for n in range(len(clfs)):\n",
    "    c = clfs[n]\n",
    "    c.fit(X_train2, y_train2)\n",
    "    \n",
    "    dump(c, 'models/' + clf_filenames[n])"
   ]
  },
  {
   "cell_type": "markdown",
   "metadata": {},
   "source": [
    "Partially commented, since re-trained classifiers have already been loaded."
   ]
  },
  {
   "cell_type": "code",
   "execution_count": 22,
   "metadata": {},
   "outputs": [],
   "source": [
    "svc_clf = load('models/svc_stacking.joblib')\n",
    "rf_clf = load('models/rf_stacking.joblib')\n",
    "knn_clf = load('models/knn_stacking.joblib')\n",
    "nb_clf = load('models/nb_stacking.joblib')\n",
    "\n",
    "clfs = [svc_clf, rf_clf, knn_clf, nb_clf]\n",
    "\n",
    "first_layer = FirstLayer(clfs)"
   ]
  },
  {
   "cell_type": "markdown",
   "metadata": {},
   "source": [
    "#### Step 2a: Cross-validating stacking classifier\n",
    "For the second layer, sklearn's implementation of Gradient Boosting will be used."
   ]
  },
  {
   "cell_type": "code",
   "execution_count": 23,
   "metadata": {},
   "outputs": [],
   "source": [
    "class SecondLayer:\n",
    "    \"\"\"Second layer of a stacking classifier or regressor.\n",
    "    Args:\n",
    "        first_layer: Instance of FirstLayer containing desired estimators. \n",
    "        blender: Estimator for blending the first layer predictions.\n",
    "            Must implement .predict() method.        \n",
    "    Attributes:\n",
    "        first_layer: FirstLayer estimators.\n",
    "        blender: Second layer estimator. \n",
    "    \"\"\"\n",
    "    def __init__(self, first_layer, blender):\n",
    "        self.first_layer = first_layer\n",
    "        self.blender = blender\n",
    "        self.trained = False\n",
    "\n",
    "    def cross_validate(self, X, y, metric):\n",
    "        \"\"\"Convenience wrapper for first_layer.predict() and sklearn.model_selection.cross_validate().\n",
    "        Args:\n",
    "            X (array-like): Features. \n",
    "            y (array-like): Targets.\n",
    "            metric: Scorers to be used for cross validation.\n",
    "        Returns: \n",
    "            See sklearn.model_selection.cross_validate()\"\"\"\n",
    "        first_layer_pred = self.first_layer.predict(X)\n",
    "        cv_output = cross_validate(\n",
    "            self.blender,\n",
    "            first_layer_pred,\n",
    "            y,\n",
    "            scoring=metric)        \n",
    "        return cv_output\n",
    "\n",
    "    def fit(self, X, y):\n",
    "        \"\"\"Convenience wrapper calling the blender's .fit() method.\n",
    "        Args:\n",
    "            X (array-like): Features. \n",
    "            y (array-like): Targets.\"\"\"\n",
    "        first_layer_pred = self.first_layer.predict(X)\n",
    "        self.blender = self.blender.fit(first_layer_pred, y)\n",
    "        self.trained = True\n",
    "        \n",
    "    def stacked_predict(self, X):\n",
    "        \"\"\"Makes stacked predictions of first and second layer.\"\"\"\n",
    "        if self.trained == True:\n",
    "            first_layer_pred = self.first_layer.predict(X)\n",
    "            pred = self.blender.predict(first_layer_pred)\n",
    "        else:\n",
    "            raise ValueError('Blender has not yet been trained.')\n",
    "        return pred"
   ]
  },
  {
   "cell_type": "code",
   "execution_count": 24,
   "metadata": {},
   "outputs": [
    {
     "data": {
      "text/plain": [
       "{'roc_auc': 0.8266802169734362,\n",
       " 'recall': 0.9739587764759603,\n",
       " 'precision': 0.2518815867021172}"
      ]
     },
     "execution_count": 24,
     "metadata": {},
     "output_type": "execute_result"
    }
   ],
   "source": [
    "from imblearn.over_sampling import SMOTE\n",
    "\n",
    "blender = Pipeline(steps=[\n",
    "        ('sampling', SMOTE(random_state=42, n_jobs=-1)),\n",
    "        ('clf', GBC(random_state=42, n_estimators=200))\n",
    "    ], memory='smote_cache')\n",
    "\n",
    "second_layer = SecondLayer(first_layer, blender)\n",
    "\n",
    "second_scores = second_layer.cross_validate(X_h, y_h, metrics)\n",
    "\n",
    "second_performance = avg_scores(metrics, second_scores)\n",
    "second_performance"
   ]
  },
  {
   "cell_type": "markdown",
   "metadata": {},
   "source": [
    "Cross-validation performance of the stacking classifier slightly exceeds the performance of individual classifiers."
   ]
  },
  {
   "cell_type": "markdown",
   "metadata": {},
   "source": [
    "#### Step 2b: Training second layer on entire holdout set"
   ]
  },
  {
   "cell_type": "code",
   "execution_count": 25,
   "metadata": {},
   "outputs": [],
   "source": [
    "second_layer.fit(X_h, y_h)"
   ]
  },
  {
   "cell_type": "markdown",
   "metadata": {},
   "source": [
    "#### Step 3: Making predictions on validation set"
   ]
  },
  {
   "cell_type": "code",
   "execution_count": 26,
   "metadata": {},
   "outputs": [
    {
     "name": "stdout",
     "output_type": "stream",
     "text": [
      "{'roc_auc': 0.7847944526595875, 'recall': 0.973957786411845, 'precision': 0.2558903051371186}\n"
     ]
    }
   ],
   "source": [
    "pred = second_layer.stacked_predict(X_val)\n",
    "\n",
    "stacking_dict = {'roc_auc' : roc_auc_score(y_val, pred),\n",
    "                'recall' : recall_score(y_val, pred),\n",
    "                'precision' : precision_score(y_val, pred)}\n",
    "\n",
    "print(stacking_dict)"
   ]
  },
  {
   "cell_type": "code",
   "execution_count": 27,
   "metadata": {
    "scrolled": true
   },
   "outputs": [
    {
     "name": "stdout",
     "output_type": "stream",
     "text": [
      "           roc_auc    recall  precision\n",
      "svc       0.784292  0.973643   0.255504\n",
      "rf        0.753456  0.723091   0.323211\n",
      "knn       0.724881  0.782001   0.251528\n",
      "nb        0.776692  0.977948   0.247482\n",
      "voting    0.781557  0.898036   0.276844\n",
      "stacking  0.784794  0.973958   0.255890\n"
     ]
    }
   ],
   "source": [
    "clf_performance_df = clf_performance_df.append(stacking_dict, ignore_index=True)\n",
    "clf_performance_df.index = ['svc', 'rf', 'knn', 'nb', 'voting', 'stacking']\n",
    "print(clf_performance_df)"
   ]
  },
  {
   "cell_type": "code",
   "execution_count": 28,
   "metadata": {},
   "outputs": [],
   "source": [
    "clf_performance_df.to_csv('val_perf.csv')"
   ]
  },
  {
   "cell_type": "markdown",
   "metadata": {},
   "source": [
    "Using a stacking classifier provides a negligible performance boost. Because of this, I would suggest to implement the Linear SVC, instead. It is a simpler model which makes it easier to maintain. Additionally, it is easier to explain to non-technical stakeholders, which could improve buy-in."
   ]
  },
  {
   "cell_type": "markdown",
   "metadata": {},
   "source": [
    "## Plotting classifier performance"
   ]
  },
  {
   "cell_type": "code",
   "execution_count": 29,
   "metadata": {
    "scrolled": true
   },
   "outputs": [],
   "source": [
    "perf = pd.read_csv('val_perf.csv', index_col=0)\n",
    "perf.sort_values('roc_auc', inplace=True)"
   ]
  },
  {
   "cell_type": "code",
   "execution_count": 30,
   "metadata": {
    "scrolled": true
   },
   "outputs": [
    {
     "data": {
      "image/png": "[encoded data removed]",
      "text/plain": [
       "<Figure size 432x288 with 1 Axes>"
      ]
     },
     "metadata": {
      "needs_background": "light"
     },
     "output_type": "display_data"
    }
   ],
   "source": [
    "c = ['#ffcd50', '#5886a5','#003f5c']\n",
    "\n",
    "ax = perf.plot(kind='barh', title='Classifier performance', color=c)\n",
    "simplify_ax(ax)\n",
    "ax.legend(loc='lower left', labels=['ROC AUC', 'Recall', 'Precision'],\n",
    "    bbox_to_anchor=(0.8, 0), ncol=1, \n",
    "    borderaxespad=0, frameon=False)\n",
    "ax.set_yticklabels(['KNN', 'Random Forest', 'Naive Bayes', 'Voting', 'SVC', 'Stacking'])\n",
    "\n",
    "plt.show()"
   ]
  },
  {
   "cell_type": "markdown",
   "metadata": {},
   "source": [
    "## Model impact"
   ]
  },
  {
   "cell_type": "markdown",
   "metadata": {},
   "source": [
    "### <i>Status quo</i>: No model, contact every lead"
   ]
  },
  {
   "cell_type": "code",
   "execution_count": 31,
   "metadata": {},
   "outputs": [
    {
     "data": {
      "text/plain": [
       "0    0.877437\n",
       "1    0.122563\n",
       "Name: Response, dtype: float64"
      ]
     },
     "execution_count": 31,
     "metadata": {},
     "output_type": "execute_result"
    }
   ],
   "source": [
    "response_prop = sell_data_train['Response'].value_counts(normalize=True)\n",
    "response_prop"
   ]
  },
  {
   "cell_type": "code",
   "execution_count": 32,
   "metadata": {},
   "outputs": [
    {
     "data": {
      "text/plain": [
       "0    87.74\n",
       "1    12.26\n",
       "Name: Response, dtype: float64"
      ]
     },
     "execution_count": 32,
     "metadata": {},
     "output_type": "execute_result"
    }
   ],
   "source": [
    "status_quo_100 = (response_prop*100).round(2)\n",
    "status_quo_100"
   ]
  },
  {
   "cell_type": "markdown",
   "metadata": {},
   "source": [
    "The dataset shows a 12.3% lead-to-customer conversion rate. In other words, ~12 per 100 contacted will buy without pre-selection."
   ]
  },
  {
   "cell_type": "markdown",
   "metadata": {},
   "source": [
    "### With a model (linear SVC)\n",
    "\n",
    "Assumptions: Only positive predictions are contacted. Conversion occurs at a level equivalent to the model's recall."
   ]
  },
  {
   "cell_type": "code",
   "execution_count": 33,
   "metadata": {
    "scrolled": true
   },
   "outputs": [
    {
     "data": {
      "text/plain": [
       "array([[52.06, 35.45],\n",
       "       [ 0.33, 12.16]])"
      ]
     },
     "execution_count": 33,
     "metadata": {},
     "output_type": "execute_result"
    }
   ],
   "source": [
    "svc_clf = load('models/svc_model.joblib')\n",
    "y_val_pred = svc_clf.predict(X_val)\n",
    "\n",
    "cf_matrix = confusion_matrix(y_val, y_val_pred)\n",
    "cf_matrix_100 = (cf_matrix / len(y_val) * 100).round(2)\n",
    "tn, fp, fn, tp = cf_matrix_100.ravel()\n",
    "\n",
    "cf_matrix_100"
   ]
  },
  {
   "cell_type": "code",
   "execution_count": 34,
   "metadata": {},
   "outputs": [
    {
     "data": {
      "text/plain": [
       "0    52\n",
       "1    48\n",
       "Name: Predicted Response, dtype: int32"
      ]
     },
     "execution_count": 34,
     "metadata": {},
     "output_type": "execute_result"
    }
   ],
   "source": [
    "responses = pd.Series(cf_matrix_100.sum(axis=0).round().astype(int), name='Predicted Response')\n",
    "responses"
   ]
  },
  {
   "cell_type": "markdown",
   "metadata": {},
   "source": [
    "#### Visualizing model impact\n",
    "\n",
    "The model correctly identifies 52% of leads as non-buyers, but also misses 0.33% of leads that are buyers.<br>\n",
    "The model selects 48% of leads for targeting. This group includes the 12% of the leads that are buyers."
   ]
  },
  {
   "cell_type": "markdown",
   "metadata": {},
   "source": [
    "![Visualizing model impact](model_impact_infographic.png)"
   ]
  }
 ],
 "metadata": {
  "kernelspec": {
   "display_name": "Python 3",
   "language": "python",
   "name": "python3"
  },
  "language_info": {
   "codemirror_mode": {
    "name": "ipython",
    "version": 3
   },
   "file_extension": ".py",
   "mimetype": "text/x-python",
   "name": "python",
   "nbconvert_exporter": "python",
   "pygments_lexer": "ipython3",
   "version": "3.9.9"
  }
 },
 "nbformat": 4,
 "nbformat_minor": 4
}
