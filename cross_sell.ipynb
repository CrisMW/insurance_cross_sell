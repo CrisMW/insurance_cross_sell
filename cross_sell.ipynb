{
 "cells": [
  {
   "cell_type": "markdown",
   "metadata": {},
   "source": [
    "## Importing data"
   ]
  },
  {
   "cell_type": "code",
   "execution_count": 1,
   "metadata": {
    "scrolled": true
   },
   "outputs": [
    {
     "data": {
      "text/html": [
       "<div>\n",
       "<style scoped>\n",
       "    .dataframe tbody tr th:only-of-type {\n",
       "        vertical-align: middle;\n",
       "    }\n",
       "\n",
       "    .dataframe tbody tr th {\n",
       "        vertical-align: top;\n",
       "    }\n",
       "\n",
       "    .dataframe thead th {\n",
       "        text-align: right;\n",
       "    }\n",
       "</style>\n",
       "<table border=\"1\" class=\"dataframe\">\n",
       "  <thead>\n",
       "    <tr style=\"text-align: right;\">\n",
       "      <th></th>\n",
       "      <th>Gender</th>\n",
       "      <th>Age</th>\n",
       "      <th>Driving_License</th>\n",
       "      <th>Region_Code</th>\n",
       "      <th>Previously_Insured</th>\n",
       "      <th>Vehicle_Age</th>\n",
       "      <th>Vehicle_Damage</th>\n",
       "      <th>Annual_Premium</th>\n",
       "      <th>Policy_Sales_Channel</th>\n",
       "      <th>Vintage</th>\n",
       "      <th>Response</th>\n",
       "    </tr>\n",
       "    <tr>\n",
       "      <th>id</th>\n",
       "      <th></th>\n",
       "      <th></th>\n",
       "      <th></th>\n",
       "      <th></th>\n",
       "      <th></th>\n",
       "      <th></th>\n",
       "      <th></th>\n",
       "      <th></th>\n",
       "      <th></th>\n",
       "      <th></th>\n",
       "      <th></th>\n",
       "    </tr>\n",
       "  </thead>\n",
       "  <tbody>\n",
       "    <tr>\n",
       "      <th>1</th>\n",
       "      <td>Male</td>\n",
       "      <td>44</td>\n",
       "      <td>1</td>\n",
       "      <td>28.0</td>\n",
       "      <td>0</td>\n",
       "      <td>&gt; 2 Years</td>\n",
       "      <td>Yes</td>\n",
       "      <td>40454.0</td>\n",
       "      <td>26.0</td>\n",
       "      <td>217</td>\n",
       "      <td>1</td>\n",
       "    </tr>\n",
       "    <tr>\n",
       "      <th>2</th>\n",
       "      <td>Male</td>\n",
       "      <td>76</td>\n",
       "      <td>1</td>\n",
       "      <td>3.0</td>\n",
       "      <td>0</td>\n",
       "      <td>1-2 Year</td>\n",
       "      <td>No</td>\n",
       "      <td>33536.0</td>\n",
       "      <td>26.0</td>\n",
       "      <td>183</td>\n",
       "      <td>0</td>\n",
       "    </tr>\n",
       "    <tr>\n",
       "      <th>3</th>\n",
       "      <td>Male</td>\n",
       "      <td>47</td>\n",
       "      <td>1</td>\n",
       "      <td>28.0</td>\n",
       "      <td>0</td>\n",
       "      <td>&gt; 2 Years</td>\n",
       "      <td>Yes</td>\n",
       "      <td>38294.0</td>\n",
       "      <td>26.0</td>\n",
       "      <td>27</td>\n",
       "      <td>1</td>\n",
       "    </tr>\n",
       "    <tr>\n",
       "      <th>4</th>\n",
       "      <td>Male</td>\n",
       "      <td>21</td>\n",
       "      <td>1</td>\n",
       "      <td>11.0</td>\n",
       "      <td>1</td>\n",
       "      <td>&lt; 1 Year</td>\n",
       "      <td>No</td>\n",
       "      <td>28619.0</td>\n",
       "      <td>152.0</td>\n",
       "      <td>203</td>\n",
       "      <td>0</td>\n",
       "    </tr>\n",
       "    <tr>\n",
       "      <th>5</th>\n",
       "      <td>Female</td>\n",
       "      <td>29</td>\n",
       "      <td>1</td>\n",
       "      <td>41.0</td>\n",
       "      <td>1</td>\n",
       "      <td>&lt; 1 Year</td>\n",
       "      <td>No</td>\n",
       "      <td>27496.0</td>\n",
       "      <td>152.0</td>\n",
       "      <td>39</td>\n",
       "      <td>0</td>\n",
       "    </tr>\n",
       "  </tbody>\n",
       "</table>\n",
       "</div>"
      ],
      "text/plain": [
       "    Gender  Age  Driving_License  Region_Code  Previously_Insured Vehicle_Age  \\\n",
       "id                                                                              \n",
       "1     Male   44                1         28.0                   0   > 2 Years   \n",
       "2     Male   76                1          3.0                   0    1-2 Year   \n",
       "3     Male   47                1         28.0                   0   > 2 Years   \n",
       "4     Male   21                1         11.0                   1    < 1 Year   \n",
       "5   Female   29                1         41.0                   1    < 1 Year   \n",
       "\n",
       "   Vehicle_Damage  Annual_Premium  Policy_Sales_Channel  Vintage  Response  \n",
       "id                                                                          \n",
       "1             Yes         40454.0                  26.0      217         1  \n",
       "2              No         33536.0                  26.0      183         0  \n",
       "3             Yes         38294.0                  26.0       27         1  \n",
       "4              No         28619.0                 152.0      203         0  \n",
       "5              No         27496.0                 152.0       39         0  "
      ]
     },
     "execution_count": 1,
     "metadata": {},
     "output_type": "execute_result"
    }
   ],
   "source": [
    "import pandas as pd\n",
    "import numpy as np\n",
    "import matplotlib.pyplot as plt\n",
    "import seaborn as sns\n",
    "sns.set()\n",
    "\n",
    "%matplotlib inline\n",
    "\n",
    "sell_data_train = pd.read_csv('train.csv', index_col='id')\n",
    "sell_data_train.head()"
   ]
  },
  {
   "cell_type": "code",
   "execution_count": 2,
   "metadata": {},
   "outputs": [
    {
     "data": {
      "text/plain": [
       "(381109, 11)"
      ]
     },
     "execution_count": 2,
     "metadata": {},
     "output_type": "execute_result"
    }
   ],
   "source": [
    "sell_data_train.shape"
   ]
  },
  {
   "cell_type": "markdown",
   "metadata": {},
   "source": [
    "## Data exploration"
   ]
  },
  {
   "cell_type": "code",
   "execution_count": 3,
   "metadata": {
    "scrolled": true
   },
   "outputs": [
    {
     "data": {
      "text/plain": [
       "Gender                  0\n",
       "Age                     0\n",
       "Driving_License         0\n",
       "Region_Code             0\n",
       "Previously_Insured      0\n",
       "Vehicle_Age             0\n",
       "Vehicle_Damage          0\n",
       "Annual_Premium          0\n",
       "Policy_Sales_Channel    0\n",
       "Vintage                 0\n",
       "Response                0\n",
       "dtype: int64"
      ]
     },
     "execution_count": 3,
     "metadata": {},
     "output_type": "execute_result"
    }
   ],
   "source": [
    "# Missing values\n",
    "\n",
    "sell_data_train.isnull().sum()"
   ]
  },
  {
   "cell_type": "code",
   "execution_count": 4,
   "metadata": {},
   "outputs": [
    {
     "data": {
      "text/plain": [
       "Gender                   object\n",
       "Age                       int64\n",
       "Driving_License           int64\n",
       "Region_Code             float64\n",
       "Previously_Insured        int64\n",
       "Vehicle_Age              object\n",
       "Vehicle_Damage           object\n",
       "Annual_Premium          float64\n",
       "Policy_Sales_Channel    float64\n",
       "Vintage                   int64\n",
       "Response                  int64\n",
       "dtype: object"
      ]
     },
     "execution_count": 4,
     "metadata": {},
     "output_type": "execute_result"
    }
   ],
   "source": [
    "# Checking data types\n",
    "\n",
    "sell_data_train.dtypes"
   ]
  },
  {
   "cell_type": "code",
   "execution_count": 5,
   "metadata": {
    "scrolled": false
   },
   "outputs": [
    {
     "data": {
      "image/png": "[encoded data removed]",
      "text/plain": [
       "<Figure size 1440x2160 with 11 Axes>"
      ]
     },
     "metadata": {
      "needs_background": "light"
     },
     "output_type": "display_data"
    }
   ],
   "source": [
    "# Visualising distribution \n",
    "\n",
    "fig = plt.figure(figsize=(20,30))\n",
    "axs = []\n",
    "\n",
    "binary_col = [2,4]\n",
    "\n",
    "for n in range(11):\n",
    "    ax = fig.add_subplot(4, 3, n+1)\n",
    "    col = sell_data_train.columns[n]\n",
    "    if n in binary_col or sell_data_train[col].dtype == object:\n",
    "        sell_data_train[col].value_counts(dropna=False).plot(\n",
    "            kind='bar',\n",
    "            ax=ax,\n",
    "            title=sell_data_train.columns[n]\n",
    "        )\n",
    "        ax.tick_params(axis='x', rotation=45)\n",
    "    else:\n",
    "        sell_data_train[col].plot(kind='hist', ax=ax, title=sell_data_train.columns[n])"
   ]
  },
  {
   "cell_type": "code",
   "execution_count": 6,
   "metadata": {
    "scrolled": true
   },
   "outputs": [
    {
     "data": {
      "text/plain": [
       "(0, 150000)"
      ]
     },
     "execution_count": 6,
     "metadata": {},
     "output_type": "execute_result"
    },
    {
     "data": {
      "image/png": "[encoded data removed]",
      "text/plain": [
       "<Figure size 432x288 with 1 Axes>"
      ]
     },
     "metadata": {
      "needs_background": "light"
     },
     "output_type": "display_data"
    }
   ],
   "source": [
    "# Looking at 'Annual Premium' in more detail\n",
    "\n",
    "ax = sell_data_train[['Annual_Premium']].plot(kind='hist', bins=[0,10000,20000,30000,40000,50000,60000,70000,80000,90000,100000])\n",
    "ax.set_xlim(0,150000)"
   ]
  },
  {
   "cell_type": "markdown",
   "metadata": {},
   "source": [
    "<b>Some observations / to-do </b><br>\n",
    "- Need to <b>encode</b> 'Gender' (one-hot), 'Vehicle_Damage' (one-hot), 'Vehicle_Age' (ordinal)\n",
    "- Need to <b>scale</b> 'Age', 'Region_Code, 'Policy_Sales_Channel', 'Vintage'\n",
    "- 'Age', 'Region_Code', 'Policy_Sales_Channel' are <b>skewed</b>. Check dictionary for meaning of last two columns. Keep in mind for later.\n",
    "- 'Driving_License' is '1' for all instances, so has no predictive value. Let's drop it. \n",
    "- There is significant <b>class imbalance in the target class</b>! The positive class (i.e. successful sale) is much less common, while being very important for us to predict. Will use imbalanced-learn library to implement oversampling using SMOTENC."
   ]
  },
  {
   "cell_type": "markdown",
   "metadata": {},
   "source": [
    "## Data preparation"
   ]
  },
  {
   "cell_type": "code",
   "execution_count": 7,
   "metadata": {},
   "outputs": [],
   "source": [
    "# Setting y, X_train\n",
    "\n",
    "y_train = np.array(sell_data_train[['Response']])\n",
    "X_train = sell_data_train.drop('Response', axis=1)\n",
    "\n",
    "# Defining column transformer to pass to pipeline later on\n",
    "# Column transformer drops license, transforms other cols\n",
    "\n",
    "from sklearn.compose import ColumnTransformer\n",
    "from sklearn.preprocessing import OneHotEncoder, OrdinalEncoder, MinMaxScaler\n",
    "\n",
    "hot_ft = [0, 6]\n",
    "ord_ft = [5]\n",
    "drop_ft = [2]\n",
    "scale_ft = [1, 3, 8, 9]\n",
    "\n",
    "ct = ColumnTransformer(\n",
    "    transformers=[\n",
    "        ('ordinal', OrdinalEncoder(categories=[['< 1 Year', '1-2 Year', '> 2 Years']]), ord_ft),\n",
    "        ('one_hot', OneHotEncoder(), hot_ft),\n",
    "        ('scale', MinMaxScaler(), scale_ft),\n",
    "        ('to_drop', 'drop', drop_ft)\n",
    "    ], remainder='passthrough')"
   ]
  },
  {
   "cell_type": "code",
   "execution_count": 8,
   "metadata": {},
   "outputs": [
    {
     "data": {
      "text/plain": [
       "array([[1],\n",
       "       [0],\n",
       "       [1],\n",
       "       [0],\n",
       "       [0],\n",
       "       [0],\n",
       "       [0],\n",
       "       [1],\n",
       "       [0],\n",
       "       [0]], dtype=int64)"
      ]
     },
     "execution_count": 8,
     "metadata": {},
     "output_type": "execute_result"
    }
   ],
   "source": [
    "y_train[:10]"
   ]
  },
  {
   "cell_type": "code",
   "execution_count": 9,
   "metadata": {},
   "outputs": [
    {
     "data": {
      "text/html": [
       "<div>\n",
       "<style scoped>\n",
       "    .dataframe tbody tr th:only-of-type {\n",
       "        vertical-align: middle;\n",
       "    }\n",
       "\n",
       "    .dataframe tbody tr th {\n",
       "        vertical-align: top;\n",
       "    }\n",
       "\n",
       "    .dataframe thead th {\n",
       "        text-align: right;\n",
       "    }\n",
       "</style>\n",
       "<table border=\"1\" class=\"dataframe\">\n",
       "  <thead>\n",
       "    <tr style=\"text-align: right;\">\n",
       "      <th></th>\n",
       "      <th>Gender</th>\n",
       "      <th>Age</th>\n",
       "      <th>Driving_License</th>\n",
       "      <th>Region_Code</th>\n",
       "      <th>Previously_Insured</th>\n",
       "      <th>Vehicle_Age</th>\n",
       "      <th>Vehicle_Damage</th>\n",
       "      <th>Annual_Premium</th>\n",
       "      <th>Policy_Sales_Channel</th>\n",
       "      <th>Vintage</th>\n",
       "    </tr>\n",
       "    <tr>\n",
       "      <th>id</th>\n",
       "      <th></th>\n",
       "      <th></th>\n",
       "      <th></th>\n",
       "      <th></th>\n",
       "      <th></th>\n",
       "      <th></th>\n",
       "      <th></th>\n",
       "      <th></th>\n",
       "      <th></th>\n",
       "      <th></th>\n",
       "    </tr>\n",
       "  </thead>\n",
       "  <tbody>\n",
       "    <tr>\n",
       "      <th>1</th>\n",
       "      <td>Male</td>\n",
       "      <td>44</td>\n",
       "      <td>1</td>\n",
       "      <td>28.0</td>\n",
       "      <td>0</td>\n",
       "      <td>&gt; 2 Years</td>\n",
       "      <td>Yes</td>\n",
       "      <td>40454.0</td>\n",
       "      <td>26.0</td>\n",
       "      <td>217</td>\n",
       "    </tr>\n",
       "    <tr>\n",
       "      <th>2</th>\n",
       "      <td>Male</td>\n",
       "      <td>76</td>\n",
       "      <td>1</td>\n",
       "      <td>3.0</td>\n",
       "      <td>0</td>\n",
       "      <td>1-2 Year</td>\n",
       "      <td>No</td>\n",
       "      <td>33536.0</td>\n",
       "      <td>26.0</td>\n",
       "      <td>183</td>\n",
       "    </tr>\n",
       "    <tr>\n",
       "      <th>3</th>\n",
       "      <td>Male</td>\n",
       "      <td>47</td>\n",
       "      <td>1</td>\n",
       "      <td>28.0</td>\n",
       "      <td>0</td>\n",
       "      <td>&gt; 2 Years</td>\n",
       "      <td>Yes</td>\n",
       "      <td>38294.0</td>\n",
       "      <td>26.0</td>\n",
       "      <td>27</td>\n",
       "    </tr>\n",
       "    <tr>\n",
       "      <th>4</th>\n",
       "      <td>Male</td>\n",
       "      <td>21</td>\n",
       "      <td>1</td>\n",
       "      <td>11.0</td>\n",
       "      <td>1</td>\n",
       "      <td>&lt; 1 Year</td>\n",
       "      <td>No</td>\n",
       "      <td>28619.0</td>\n",
       "      <td>152.0</td>\n",
       "      <td>203</td>\n",
       "    </tr>\n",
       "    <tr>\n",
       "      <th>5</th>\n",
       "      <td>Female</td>\n",
       "      <td>29</td>\n",
       "      <td>1</td>\n",
       "      <td>41.0</td>\n",
       "      <td>1</td>\n",
       "      <td>&lt; 1 Year</td>\n",
       "      <td>No</td>\n",
       "      <td>27496.0</td>\n",
       "      <td>152.0</td>\n",
       "      <td>39</td>\n",
       "    </tr>\n",
       "    <tr>\n",
       "      <th>6</th>\n",
       "      <td>Female</td>\n",
       "      <td>24</td>\n",
       "      <td>1</td>\n",
       "      <td>33.0</td>\n",
       "      <td>0</td>\n",
       "      <td>&lt; 1 Year</td>\n",
       "      <td>Yes</td>\n",
       "      <td>2630.0</td>\n",
       "      <td>160.0</td>\n",
       "      <td>176</td>\n",
       "    </tr>\n",
       "    <tr>\n",
       "      <th>7</th>\n",
       "      <td>Male</td>\n",
       "      <td>23</td>\n",
       "      <td>1</td>\n",
       "      <td>11.0</td>\n",
       "      <td>0</td>\n",
       "      <td>&lt; 1 Year</td>\n",
       "      <td>Yes</td>\n",
       "      <td>23367.0</td>\n",
       "      <td>152.0</td>\n",
       "      <td>249</td>\n",
       "    </tr>\n",
       "    <tr>\n",
       "      <th>8</th>\n",
       "      <td>Female</td>\n",
       "      <td>56</td>\n",
       "      <td>1</td>\n",
       "      <td>28.0</td>\n",
       "      <td>0</td>\n",
       "      <td>1-2 Year</td>\n",
       "      <td>Yes</td>\n",
       "      <td>32031.0</td>\n",
       "      <td>26.0</td>\n",
       "      <td>72</td>\n",
       "    </tr>\n",
       "    <tr>\n",
       "      <th>9</th>\n",
       "      <td>Female</td>\n",
       "      <td>24</td>\n",
       "      <td>1</td>\n",
       "      <td>3.0</td>\n",
       "      <td>1</td>\n",
       "      <td>&lt; 1 Year</td>\n",
       "      <td>No</td>\n",
       "      <td>27619.0</td>\n",
       "      <td>152.0</td>\n",
       "      <td>28</td>\n",
       "    </tr>\n",
       "    <tr>\n",
       "      <th>10</th>\n",
       "      <td>Female</td>\n",
       "      <td>32</td>\n",
       "      <td>1</td>\n",
       "      <td>6.0</td>\n",
       "      <td>1</td>\n",
       "      <td>&lt; 1 Year</td>\n",
       "      <td>No</td>\n",
       "      <td>28771.0</td>\n",
       "      <td>152.0</td>\n",
       "      <td>80</td>\n",
       "    </tr>\n",
       "  </tbody>\n",
       "</table>\n",
       "</div>"
      ],
      "text/plain": [
       "    Gender  Age  Driving_License  Region_Code  Previously_Insured Vehicle_Age  \\\n",
       "id                                                                              \n",
       "1     Male   44                1         28.0                   0   > 2 Years   \n",
       "2     Male   76                1          3.0                   0    1-2 Year   \n",
       "3     Male   47                1         28.0                   0   > 2 Years   \n",
       "4     Male   21                1         11.0                   1    < 1 Year   \n",
       "5   Female   29                1         41.0                   1    < 1 Year   \n",
       "6   Female   24                1         33.0                   0    < 1 Year   \n",
       "7     Male   23                1         11.0                   0    < 1 Year   \n",
       "8   Female   56                1         28.0                   0    1-2 Year   \n",
       "9   Female   24                1          3.0                   1    < 1 Year   \n",
       "10  Female   32                1          6.0                   1    < 1 Year   \n",
       "\n",
       "   Vehicle_Damage  Annual_Premium  Policy_Sales_Channel  Vintage  \n",
       "id                                                                \n",
       "1             Yes         40454.0                  26.0      217  \n",
       "2              No         33536.0                  26.0      183  \n",
       "3             Yes         38294.0                  26.0       27  \n",
       "4              No         28619.0                 152.0      203  \n",
       "5              No         27496.0                 152.0       39  \n",
       "6             Yes          2630.0                 160.0      176  \n",
       "7             Yes         23367.0                 152.0      249  \n",
       "8             Yes         32031.0                  26.0       72  \n",
       "9              No         27619.0                 152.0       28  \n",
       "10             No         28771.0                 152.0       80  "
      ]
     },
     "execution_count": 9,
     "metadata": {},
     "output_type": "execute_result"
    }
   ],
   "source": [
    "X_train[:10]"
   ]
  },
  {
   "cell_type": "markdown",
   "metadata": {},
   "source": [
    "## Training and testing"
   ]
  },
  {
   "cell_type": "markdown",
   "metadata": {},
   "source": [
    "Performance metrics: Recall, Precision, F1 score\n",
    "- The overall goal here is two-fold: to recruit as many customers as possible, but at the same time not to waste our resources on the wrong customers.\n",
    "- Mathematically speaking, we want high recall and high precision. Consequently, I will use both recall and precision as my metrics.\n",
    "- Additionally, I will use the F1 score. It combines recall and precision in a single metric, so it is ideal for this purpose.\n",
    "\n",
    "Models: logistic regression (with various regularisation techniques), linear support vector classifier, KNN and random forest.  "
   ]
  },
  {
   "cell_type": "markdown",
   "metadata": {},
   "source": [
    "### Defining metrics"
   ]
  },
  {
   "cell_type": "code",
   "execution_count": 10,
   "metadata": {},
   "outputs": [],
   "source": [
    "# Importing metrics, cross_validate\n",
    "\n",
    "from sklearn.metrics import f1_score, recall_score, precision_score\n",
    "from sklearn.model_selection import cross_validate\n",
    "\n",
    "metrics = ['f1', 'recall', 'precision']\n",
    "\n",
    "# Function to calculate averages from dictionary returned by cross_validate\n",
    "\n",
    "def avg_scores(metrics_list, score_dict):\n",
    "    \"\"\"Average the metrics returned by sklearn.model_selection.cross_validate() across\n",
    "    all folds.\n",
    "    Args:\n",
    "        metrics_list (list): List containing metrics passed to cross_validate().\n",
    "        score_dict (dict): Dict returned by cross_calidate().\n",
    "    Returns:\n",
    "        avg_dict (dict): Dictionary containing the averaged metrics. \n",
    "    \"\"\"\n",
    "    avg_dict = {}\n",
    "    for m in metrics_list:\n",
    "        avg_dict[m] = np.mean(score_dict['test_{}'.format(m)])\n",
    "    return avg_dict"
   ]
  },
  {
   "cell_type": "markdown",
   "metadata": {},
   "source": [
    "### Logistic regression"
   ]
  },
  {
   "cell_type": "markdown",
   "metadata": {},
   "source": [
    "#### Lasso regularisation"
   ]
  },
  {
   "cell_type": "markdown",
   "metadata": {},
   "source": [
    "Due to the number of features, I will first try Lasso regression.\n",
    "\n",
    "Oversampling will be implemented usign imblearn.over_sampling.SMOTE. The ColumnTransformer, classifier and SMOTE are passed to an imblearn.Pipeline object instead of sklearn.Pipeline, because imblearn omits the oversampling step for the validation set (as it should). "
   ]
  },
  {
   "cell_type": "code",
   "execution_count": 11,
   "metadata": {
    "scrolled": false
   },
   "outputs": [
    {
     "name": "stdout",
     "output_type": "stream",
     "text": [
      "{'f1': 0.4064904179107881, 'recall': 0.9245343609505458, 'precision': 0.26056754605334237}\n"
     ]
    }
   ],
   "source": [
    "from imblearn.pipeline import Pipeline\n",
    "from imblearn.over_sampling import SMOTENC\n",
    "from sklearn.linear_model import SGDClassifier\n",
    "\n",
    "# Defining imblearn.pipeline.Pipeline\n",
    "\n",
    "log_model = Pipeline([\n",
    "    ('sampling', SMOTENC(categorical_features=ord_ft+hot_ft)),\n",
    "    ('transfomer', ct),\n",
    "    ('clf', SGDClassifier(loss='log', penalty='l1', random_state=42))\n",
    "])\n",
    "\n",
    "# Training / evaluating model with cross-validation\n",
    "\n",
    "scores_log = cross_validate(log_model, X_train, y_train, scoring=metrics)\n",
    "\n",
    "# Averaging across folds\n",
    "\n",
    "log_avg = avg_scores(metrics, scores_log)\n",
    "print(log_avg)"
   ]
  },
  {
   "cell_type": "markdown",
   "metadata": {},
   "source": [
    "#### Hyperparameter tuning using GridSearchCV"
   ]
  },
  {
   "cell_type": "markdown",
   "metadata": {},
   "source": [
    "Performance is ok, with good recall, but low precision. At the moment, we are correctly identifying a lot of the real opportunities (good recall), but also wasting resources by going after the wrong customers (low precision).<br> This trade-off between precision and recall is a common occurence, but it should be possible to increase precision without sacrificing recall too much.\n",
    "\n",
    "Let's examine the different combinations of hyperparameters systematically using GridSearchCV:\n",
    "- penalty, defines whether to use Lasso, Ridge or Elastic Net regularisation\n",
    "- alpha, determines extent of regularisation\n",
    "- l1_ratio (when using Elastic Net), defines the proportion of Lasso regularisation."
   ]
  },
  {
   "cell_type": "code",
   "execution_count": null,
   "metadata": {},
   "outputs": [],
   "source": [
    "# Defining grid for search\n",
    "\n",
    "log_param_grid = [\n",
    "    {'clf__penalty': ['l1', 'l2'], \n",
    "    'clf__alpha': np.linspace(1,100,num=10)\n",
    "    },\n",
    "    {'clf__penalty': ['elasticnet'],\n",
    "    'clf__l1_ratio': np.linspace(0.05,5,num=10),\n",
    "    'clf__alpha': np.linspace(1,100,num=10)\n",
    "    }]\n",
    "\n",
    "# Defining imblearn.pipeline.Pipeline\n",
    "\n",
    "log_model = Pipeline([\n",
    "    ('sampling', SMOTENC(categorical_features=ord_ft+hot_ft)),\n",
    "    ('transfomer', ct),\n",
    "    ('clf', SGDClassifier(loss='log', random_state=42))\n",
    "])\n",
    "\n",
    "# Hyperparameter tuning using GridSearchCV\n",
    "\n",
    "from sklearn.model_selection import GridSearchCV\n",
    "\n",
    "grid_search_log = GridSearchCV(log_model, log_param_grid, scoring='f1')\n",
    "grid_search_log.fit(X_train, y_train)"
   ]
  },
  {
   "cell_type": "code",
   "execution_count": null,
   "metadata": {},
   "outputs": [],
   "source": [
    "# Obtaining best parameters\n",
    "# The best estimator refit on the entire training set can be called\n",
    "# using .predict() method directly on the GridSearchCV instance\n",
    "\n",
    "best_log = grid_search_log.best_params_\n",
    "\n",
    "# Best model will be saved for future use\n",
    "\n"
   ]
  },
  {
   "cell_type": "markdown",
   "metadata": {},
   "source": [
    "### Loading, transforming test data"
   ]
  },
  {
   "cell_type": "code",
   "execution_count": null,
   "metadata": {},
   "outputs": [],
   "source": [
    "# # Loading test data\n",
    "# sell_data_test = pd.read_csv('train.csv', index_col='id')\n",
    "\n",
    "# # Double-checking test data\n",
    "# sell_data_test.head()"
   ]
  },
  {
   "cell_type": "code",
   "execution_count": null,
   "metadata": {
    "scrolled": true
   },
   "outputs": [],
   "source": [
    "# sell_data_test.shape"
   ]
  },
  {
   "cell_type": "code",
   "execution_count": null,
   "metadata": {},
   "outputs": [],
   "source": [
    "# # Transforming test data\n",
    "\n",
    "# y_test = sell_data_test[['Response']].to_numpy().ravel()\n",
    "# X_test = ct.transform(sell_data_test)"
   ]
  }
 ],
 "metadata": {
  "kernelspec": {
   "display_name": "Python 3",
   "language": "python",
   "name": "python3"
  },
  "language_info": {
   "codemirror_mode": {
    "name": "ipython",
    "version": 3
   },
   "file_extension": ".py",
   "mimetype": "text/x-python",
   "name": "python",
   "nbconvert_exporter": "python",
   "pygments_lexer": "ipython3",
   "version": "3.7.0"
  }
 },
 "nbformat": 4,
 "nbformat_minor": 4
}
